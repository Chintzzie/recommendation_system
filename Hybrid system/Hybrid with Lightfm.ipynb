{
 "cells": [
  {
   "cell_type": "markdown",
   "metadata": {},
   "source": [
    "# Data Cleaning"
   ]
  },
  {
   "cell_type": "code",
   "execution_count": 1,
   "metadata": {},
   "outputs": [],
   "source": [
    "import numpy as np\n",
    "import pandas as pd\n",
    "\n",
    "def convert_year(in_string):\n",
    "    '''Returns input as integer if possible, else None'''\n",
    "    try:\n",
    "        return int(in_string)\n",
    "    except:\n",
    "        return None\n",
    "\n",
    "def get_country(in_string):\n",
    "    '''Return the country element from the location.'''\n",
    "    try:\n",
    "        return in_string.rsplit(',', 1)[1].strip('.;-')\n",
    "    except:\n",
    "        return in_string\n",
    "\n",
    "def get_province(in_string):\n",
    "    '''Return the province/state/area element from the location'''\n",
    "    try:\n",
    "        return in_string.rsplit(',', 2)[1].strip('.;-')\n",
    "    except:\n",
    "        return None\n",
    "\n",
    "def get_clean_data(path='./data/'):\n",
    "    '''\n",
    "    Returns 3 cleaned datasets. Enter the path if the csv files is not under\n",
    "    \\data\\ in your system\n",
    "    :return:\n",
    "    DataFrame - pandas dataframe of books\n",
    "    DataFrame - pandas dataframe of users\n",
    "    DataFrame - pandas dataframe of ratings\n",
    "    '''\n",
    "    # skip some lines. Only like 5 of them. Errors likely because there\n",
    "    # are semicolons in the title and pandas recognizes it as another column\n",
    "    df_books = pd.read_csv(\n",
    "        path + \"BX-Books.csv\", sep=';', encoding=\"ISO-8859-1\", error_bad_lines=False\n",
    "    )\n",
    "    df_users = pd.read_csv(path + \"BX-Users.csv\", sep=';', encoding=\"ISO-8859-1\")\n",
    "    df_ratings = pd.read_csv(\n",
    "        path + \"BX-Book-Ratings.csv\", sep=';', encoding=\"ISO-8859-1\"\n",
    "    )\n",
    "    df_books.columns = [\n",
    "        'isbn', 'title', 'author', 'pub_year', 'publisher', 'url_s', 'url_m',\n",
    "        'url_l'\n",
    "    ]\n",
    "    df_ratings.columns = ['user', 'isbn', 'rating']\n",
    "    df_users.columns = ['user', 'location', 'age']\n",
    "    df_books.pub_year = (\n",
    "        df_books.pub_year.apply(convert_year)\n",
    "    )\n",
    "    # Drop the 3 bad rows\n",
    "    df_books = df_books[~df_books.pub_year.isna()]\n",
    "\n",
    "    # pub_year 0 most certainly means unknown value or null\n",
    "    # anything > 2018 don't make sense either\n",
    "    df_books.pub_year[\n",
    "        (df_books.pub_year > 2018) | (df_books.pub_year == 0)\n",
    "        ] = None\n",
    "\n",
    "    # Age 0 doesnt make sense and is most likely unknown or unrecorded value\n",
    "    # Age > 122 doesnt make sense either as 122 is the recorded oldest person\n",
    "    # on earth. (Prolly a lot of those over 100 are errors too but we cant\n",
    "    # tell)\n",
    "    df_users.age[(df_users.age == 0) | (df_users.age > 122)] = None\n",
    "    df_users[\"country\"] = df_users.location.apply(get_country)\n",
    "    df_users[\"province\"] = df_users.location.apply(get_province)\n",
    "    return df_books, df_users, df_ratings"
   ]
  },
  {
   "cell_type": "code",
   "execution_count": 2,
   "metadata": {},
   "outputs": [
    {
     "name": "stderr",
     "output_type": "stream",
     "text": [
      "b'Skipping line 6452: expected 8 fields, saw 9\\nSkipping line 43667: expected 8 fields, saw 10\\nSkipping line 51751: expected 8 fields, saw 9\\n'\n",
      "b'Skipping line 92038: expected 8 fields, saw 9\\nSkipping line 104319: expected 8 fields, saw 9\\nSkipping line 121768: expected 8 fields, saw 9\\n'\n",
      "b'Skipping line 144058: expected 8 fields, saw 9\\nSkipping line 150789: expected 8 fields, saw 9\\nSkipping line 157128: expected 8 fields, saw 9\\nSkipping line 180189: expected 8 fields, saw 9\\nSkipping line 185738: expected 8 fields, saw 9\\n'\n",
      "b'Skipping line 209388: expected 8 fields, saw 9\\nSkipping line 220626: expected 8 fields, saw 9\\nSkipping line 227933: expected 8 fields, saw 11\\nSkipping line 228957: expected 8 fields, saw 10\\nSkipping line 245933: expected 8 fields, saw 9\\nSkipping line 251296: expected 8 fields, saw 9\\nSkipping line 259941: expected 8 fields, saw 9\\nSkipping line 261529: expected 8 fields, saw 9\\n'\n",
      "C:\\Anaconda3\\envs\\recom_sys\\lib\\site-packages\\IPython\\core\\interactiveshell.py:3185: DtypeWarning: Columns (3) have mixed types. Specify dtype option on import or set low_memory=False.\n",
      "  if (yield from self.run_code(code, result)):\n",
      "C:\\Anaconda3\\envs\\recom_sys\\lib\\site-packages\\ipykernel_launcher.py:67: SettingWithCopyWarning: \n",
      "A value is trying to be set on a copy of a slice from a DataFrame\n",
      "\n",
      "See the caveats in the documentation: http://pandas.pydata.org/pandas-docs/stable/indexing.html#indexing-view-versus-copy\n",
      "C:\\Anaconda3\\envs\\recom_sys\\lib\\site-packages\\ipykernel_launcher.py:13: SettingWithCopyWarning: \n",
      "A value is trying to be set on a copy of a slice from a DataFrame\n",
      "\n",
      "See the caveats in the documentation: http://pandas.pydata.org/pandas-docs/stable/indexing.html#indexing-view-versus-copy\n",
      "  del sys.path[0]\n"
     ]
    }
   ],
   "source": [
    "df_books, df_users, df_ratings=get_clean_data()\n",
    "df_books=df_books.drop(['url_s','url_m','url_l'],axis=1)\n",
    "df_users=df_users.drop(['location','province'],axis=1)\n",
    "df_users_withage=df_users\n",
    "df_user_no_age=df_users=df_users.drop(['age'],axis=1)\n",
    "df_ratings=df_ratings[df_ratings['rating']!=0]\n",
    "df_ratings=df_ratings.merge(df_books)\n",
    "df_ratings.columns=['userid','isbn','ratings','title','author','year','publisher']\n",
    "\n",
    "genre = pd.read_csv('data/isbn_genre.csv')\n",
    "genre=genre.drop('Unnamed: 0',axis=1)\n",
    "df_item = df_ratings[['isbn','author']]\n",
    "df_item.drop_duplicates(inplace=True)\n",
    "df_item = pd.merge(right=df_item, left=genre,how='left')\n",
    "df_ratings.sort_values('userid',inplace=True)\n",
    "df_item.dropna(inplace=True)\n",
    "df_ratings.dropna(inplace=True)"
   ]
  },
  {
   "cell_type": "markdown",
   "metadata": {},
   "source": [
    "# One hot encode book authors as an item feature"
   ]
  },
  {
   "cell_type": "code",
   "execution_count": 5,
   "metadata": {},
   "outputs": [],
   "source": [
    "from sklearn.preprocessing import OneHotEncoder\n",
    "encode = OneHotEncoder(sparse=True)\n",
    "item_features=encode.fit_transform(df_ratings[['author','isbn']])"
   ]
  },
  {
   "cell_type": "code",
   "execution_count": 6,
   "metadata": {},
   "outputs": [
    {
     "data": {
      "text/plain": [
       "<378026x208323 sparse matrix of type '<class 'numpy.float64'>'\n",
       "\twith 756052 stored elements in Compressed Sparse Row format>"
      ]
     },
     "execution_count": 6,
     "metadata": {},
     "output_type": "execute_result"
    }
   ],
   "source": [
    "item_features\n",
    "#created a sparse matrix of item feature to fit in LightFM model"
   ]
  },
  {
   "cell_type": "markdown",
   "metadata": {},
   "source": [
    "# Fit Lightfm hybrid model with author"
   ]
  },
  {
   "cell_type": "code",
   "execution_count": 8,
   "metadata": {},
   "outputs": [
    {
     "name": "stderr",
     "output_type": "stream",
     "text": [
      "C:\\Anaconda3\\envs\\recom_sys\\lib\\site-packages\\lightfm\\_lightfm_fast.py:9: UserWarning: LightFM was compiled without OpenMP support. Only a single thread will be used.\n",
      "  warnings.warn('LightFM was compiled without OpenMP support. '\n"
     ]
    }
   ],
   "source": [
    "from lightfm.data import Dataset\n",
    "dataset=Dataset()\n",
    "dataset.fit(df_ratings.userid.values,df_ratings.isbn.values,item_features = df_item['author'].values)\n",
    "# fit ratings, book isbn and book features to the model\n",
    "# "
   ]
  },
  {
   "cell_type": "code",
   "execution_count": 10,
   "metadata": {},
   "outputs": [],
   "source": [
    "item_sub = df_ratings[['isbn', 'author']]\n",
    "item_tuples = [tuple(x) for x in item_sub.values]\n",
    "\n",
    "user_sub = df_ratings[['userid', 'isbn']]\n",
    "user_tuples = [tuple(x) for x in user_sub.values]"
   ]
  },
  {
   "cell_type": "code",
   "execution_count": 11,
   "metadata": {},
   "outputs": [
    {
     "data": {
      "text/plain": [
       "<67071x147100 sparse matrix of type '<class 'numpy.int32'>'\n",
       "\twith 378026 stored elements in COOrdinate format>"
      ]
     },
     "execution_count": 11,
     "metadata": {},
     "output_type": "execute_result"
    }
   ],
   "source": [
    "(interactions, weights) = dataset.build_interactions(user_tuples)\n",
    "interactions\n",
    "# build interaction on what item the user rated and the cooresponing item feature"
   ]
  },
  {
   "cell_type": "code",
   "execution_count": 13,
   "metadata": {},
   "outputs": [],
   "source": [
    "from lightfm.cross_validation import random_train_test_split\n",
    "train, test = random_train_test_split(interactions, test_percentage=0.2, random_state=np.random.RandomState(seed=111))"
   ]
  },
  {
   "cell_type": "code",
   "execution_count": 14,
   "metadata": {},
   "outputs": [],
   "source": [
    "from lightfm import LightFM\n",
    "# Define a new model instance\n",
    "model = LightFM(loss='warp',\n",
    "                no_components=20)\n",
    "\n",
    "# Fit the hybrid model, remember to pass in item features.\n",
    "model = model.fit(train,\n",
    "                item_features=item_features,\n",
    "                epochs=10,\n",
    "                num_threads=4)"
   ]
  },
  {
   "cell_type": "code",
   "execution_count": 15,
   "metadata": {},
   "outputs": [
    {
     "name": "stdout",
     "output_type": "stream",
     "text": [
      "Hybrid training set AUC: 0.9846635\n"
     ]
    }
   ],
   "source": [
    "from lightfm.evaluation import auc_score\n",
    "# Don't forget the pass in the item features again!\n",
    "train_auc = auc_score(model,\n",
    "                      train,\n",
    "                      item_features=item_features).mean()\n",
    "print('Hybrid training set AUC: %s' % train_auc)"
   ]
  },
  {
   "cell_type": "code",
   "execution_count": 17,
   "metadata": {},
   "outputs": [
    {
     "name": "stdout",
     "output_type": "stream",
     "text": [
      "Hybrid test set AUC: 0.633271\n"
     ]
    }
   ],
   "source": [
    "test_auc = auc_score(model,\n",
    "                    test,\n",
    "                    train_interactions=train,\n",
    "                    item_features=item_features).mean()\n",
    "print('Hybrid test set AUC: %s' % test_auc)"
   ]
  },
  {
   "cell_type": "markdown",
   "metadata": {},
   "source": [
    "# Recoomedations "
   ]
  },
  {
   "cell_type": "code",
   "execution_count": null,
   "metadata": {},
   "outputs": [],
   "source": [
    "#retriving the mappings of isbn and \n",
    "item_ids = list(dataset.mapping()[0].values())"
   ]
  },
  {
   "cell_type": "code",
   "execution_count": null,
   "metadata": {},
   "outputs": [],
   "source": [
    "#make predictions, noted the user_ids is not the mapped userid, need to transform back to the original userid\n",
    "pred = model.predict(user_ids=66557,item_ids=list(dataset.mapping()[2].values()))\n",
    "l=list(zip(list(dataset.mapping()[2].keys()),list(pred)))"
   ]
  },
  {
   "cell_type": "markdown",
   "metadata": {},
   "source": [
    "# top 5 recommendation for user 276847"
   ]
  },
  {
   "cell_type": "code",
   "execution_count": 120,
   "metadata": {},
   "outputs": [
    {
     "data": {
      "text/html": [
       "<div>\n",
       "<style scoped>\n",
       "    .dataframe tbody tr th:only-of-type {\n",
       "        vertical-align: middle;\n",
       "    }\n",
       "\n",
       "    .dataframe tbody tr th {\n",
       "        vertical-align: top;\n",
       "    }\n",
       "\n",
       "    .dataframe thead th {\n",
       "        text-align: right;\n",
       "    }\n",
       "</style>\n",
       "<table border=\"1\" class=\"dataframe\">\n",
       "  <thead>\n",
       "    <tr style=\"text-align: right;\">\n",
       "      <th></th>\n",
       "      <th>isbn</th>\n",
       "      <th>recommendation_scores</th>\n",
       "    </tr>\n",
       "  </thead>\n",
       "  <tbody>\n",
       "    <tr>\n",
       "      <th>76486</th>\n",
       "      <td>0440192463</td>\n",
       "      <td>0.317054</td>\n",
       "    </tr>\n",
       "    <tr>\n",
       "      <th>135578</th>\n",
       "      <td>0312272103</td>\n",
       "      <td>0.246908</td>\n",
       "    </tr>\n",
       "    <tr>\n",
       "      <th>104677</th>\n",
       "      <td>0373226403</td>\n",
       "      <td>0.185529</td>\n",
       "    </tr>\n",
       "    <tr>\n",
       "      <th>114205</th>\n",
       "      <td>0156013487</td>\n",
       "      <td>0.092207</td>\n",
       "    </tr>\n",
       "    <tr>\n",
       "      <th>98574</th>\n",
       "      <td>0373122772</td>\n",
       "      <td>0.034806</td>\n",
       "    </tr>\n",
       "  </tbody>\n",
       "</table>\n",
       "</div>"
      ],
      "text/plain": [
       "              isbn  recommendation_scores\n",
       "76486   0440192463               0.317054\n",
       "135578  0312272103               0.246908\n",
       "104677  0373226403               0.185529\n",
       "114205  0156013487               0.092207\n",
       "98574   0373122772               0.034806"
      ]
     },
     "execution_count": 120,
     "metadata": {},
     "output_type": "execute_result"
    }
   ],
   "source": [
    "pred_df = pd.DataFrame(l,columns = ['isbn','recommendation_scores'])\n",
    "pred_df = pred_df.sort_values(\"recommendation_scores\",ascending=False)\n",
    "pred_df.head()"
   ]
  },
  {
   "cell_type": "code",
   "execution_count": 74,
   "metadata": {},
   "outputs": [
    {
     "data": {
      "text/html": [
       "<div>\n",
       "<style scoped>\n",
       "    .dataframe tbody tr th:only-of-type {\n",
       "        vertical-align: middle;\n",
       "    }\n",
       "\n",
       "    .dataframe tbody tr th {\n",
       "        vertical-align: top;\n",
       "    }\n",
       "\n",
       "    .dataframe thead th {\n",
       "        text-align: right;\n",
       "    }\n",
       "</style>\n",
       "<table border=\"1\" class=\"dataframe\">\n",
       "  <thead>\n",
       "    <tr style=\"text-align: right;\">\n",
       "      <th></th>\n",
       "      <th>userid</th>\n",
       "      <th>isbn</th>\n",
       "      <th>ratings</th>\n",
       "      <th>title</th>\n",
       "      <th>author</th>\n",
       "      <th>year</th>\n",
       "      <th>publisher</th>\n",
       "    </tr>\n",
       "  </thead>\n",
       "  <tbody>\n",
       "    <tr>\n",
       "      <th>1194</th>\n",
       "      <td>276847</td>\n",
       "      <td>3551551677</td>\n",
       "      <td>10</td>\n",
       "      <td>Harry Potter und der Stein der Weisen</td>\n",
       "      <td>Joanne K. Rowling</td>\n",
       "      <td>1999.0</td>\n",
       "      <td>Carlsen Verlag GmbH</td>\n",
       "    </tr>\n",
       "    <tr>\n",
       "      <th>1182</th>\n",
       "      <td>276847</td>\n",
       "      <td>347354034X</td>\n",
       "      <td>7</td>\n",
       "      <td>Die Welle</td>\n",
       "      <td>Rhue</td>\n",
       "      <td>1998.0</td>\n",
       "      <td>Ullstein-Taschenbuch-Verlag, Zweigniederlassun...</td>\n",
       "    </tr>\n",
       "    <tr>\n",
       "      <th>1190</th>\n",
       "      <td>276847</td>\n",
       "      <td>3499222213</td>\n",
       "      <td>7</td>\n",
       "      <td>Im Keller.</td>\n",
       "      <td>Jan Philipp Reemtsma</td>\n",
       "      <td>1998.0</td>\n",
       "      <td>Rowohlt Tb.</td>\n",
       "    </tr>\n",
       "    <tr>\n",
       "      <th>1191</th>\n",
       "      <td>276847</td>\n",
       "      <td>3499228297</td>\n",
       "      <td>6</td>\n",
       "      <td>Alte Freunde, neue Feinde. Ein Fall fÃ?Â¼r Ber...</td>\n",
       "      <td>Philip Kerr</td>\n",
       "      <td>2000.0</td>\n",
       "      <td>Rowohlt Tb.</td>\n",
       "    </tr>\n",
       "    <tr>\n",
       "      <th>1193</th>\n",
       "      <td>276847</td>\n",
       "      <td>3506464078</td>\n",
       "      <td>10</td>\n",
       "      <td>Le Petit Prince. (FranzÃ?Â¶sische Ausgabe). (L...</td>\n",
       "      <td>Antoine de Saint-Exupery</td>\n",
       "      <td>1981.0</td>\n",
       "      <td>F. SchÃ?Â¶ningh, Paderborn</td>\n",
       "    </tr>\n",
       "    <tr>\n",
       "      <th>1209</th>\n",
       "      <td>276847</td>\n",
       "      <td>3551551685</td>\n",
       "      <td>10</td>\n",
       "      <td>Harry Potter und die Kammer des Schreckens</td>\n",
       "      <td>Joanne K. Rowling</td>\n",
       "      <td>2000.0</td>\n",
       "      <td>Carlsen Verlag GmbH</td>\n",
       "    </tr>\n",
       "    <tr>\n",
       "      <th>1220</th>\n",
       "      <td>276847</td>\n",
       "      <td>3551551693</td>\n",
       "      <td>10</td>\n",
       "      <td>Harry Potter und der Gefangene von Azkaban</td>\n",
       "      <td>J. K. Rowling</td>\n",
       "      <td>1999.0</td>\n",
       "      <td>Carlsen Verlag GmbH</td>\n",
       "    </tr>\n",
       "    <tr>\n",
       "      <th>1230</th>\n",
       "      <td>276847</td>\n",
       "      <td>3551551936</td>\n",
       "      <td>10</td>\n",
       "      <td>Harry Potter Und Der Feuerkelch</td>\n",
       "      <td>Joanne K. Rowling</td>\n",
       "      <td>1999.0</td>\n",
       "      <td>Carlsen Verlag GmbH</td>\n",
       "    </tr>\n",
       "    <tr>\n",
       "      <th>1244</th>\n",
       "      <td>276847</td>\n",
       "      <td>3608932240</td>\n",
       "      <td>7</td>\n",
       "      <td>Der Herr der Ringe. AnhÃ?Â¤nge und Register.</td>\n",
       "      <td>John Ronald Reuel Tolkien</td>\n",
       "      <td>2000.0</td>\n",
       "      <td>Klett-Cotta</td>\n",
       "    </tr>\n",
       "    <tr>\n",
       "      <th>1245</th>\n",
       "      <td>276847</td>\n",
       "      <td>360893541X</td>\n",
       "      <td>10</td>\n",
       "      <td>Die Gefahrten I</td>\n",
       "      <td>J. R. R. Tolkien</td>\n",
       "      <td>2001.0</td>\n",
       "      <td>Distribooks</td>\n",
       "    </tr>\n",
       "  </tbody>\n",
       "</table>\n",
       "</div>"
      ],
      "text/plain": [
       "      userid        isbn  ratings  \\\n",
       "1194  276847  3551551677       10   \n",
       "1182  276847  347354034X        7   \n",
       "1190  276847  3499222213        7   \n",
       "1191  276847  3499228297        6   \n",
       "1193  276847  3506464078       10   \n",
       "1209  276847  3551551685       10   \n",
       "1220  276847  3551551693       10   \n",
       "1230  276847  3551551936       10   \n",
       "1244  276847  3608932240        7   \n",
       "1245  276847  360893541X       10   \n",
       "\n",
       "                                                  title  \\\n",
       "1194              Harry Potter und der Stein der Weisen   \n",
       "1182                                          Die Welle   \n",
       "1190                                         Im Keller.   \n",
       "1191  Alte Freunde, neue Feinde. Ein Fall fÃ?Â¼r Ber...   \n",
       "1193  Le Petit Prince. (FranzÃ?Â¶sische Ausgabe). (L...   \n",
       "1209         Harry Potter und die Kammer des Schreckens   \n",
       "1220         Harry Potter und der Gefangene von Azkaban   \n",
       "1230                    Harry Potter Und Der Feuerkelch   \n",
       "1244       Der Herr der Ringe. AnhÃ?Â¤nge und Register.   \n",
       "1245                                    Die Gefahrten I   \n",
       "\n",
       "                         author    year  \\\n",
       "1194          Joanne K. Rowling  1999.0   \n",
       "1182                       Rhue  1998.0   \n",
       "1190       Jan Philipp Reemtsma  1998.0   \n",
       "1191                Philip Kerr  2000.0   \n",
       "1193   Antoine de Saint-Exupery  1981.0   \n",
       "1209          Joanne K. Rowling  2000.0   \n",
       "1220              J. K. Rowling  1999.0   \n",
       "1230          Joanne K. Rowling  1999.0   \n",
       "1244  John Ronald Reuel Tolkien  2000.0   \n",
       "1245           J. R. R. Tolkien  2001.0   \n",
       "\n",
       "                                              publisher  \n",
       "1194                                Carlsen Verlag GmbH  \n",
       "1182  Ullstein-Taschenbuch-Verlag, Zweigniederlassun...  \n",
       "1190                                        Rowohlt Tb.  \n",
       "1191                                        Rowohlt Tb.  \n",
       "1193                         F. SchÃ?Â¶ningh, Paderborn  \n",
       "1209                                Carlsen Verlag GmbH  \n",
       "1220                                Carlsen Verlag GmbH  \n",
       "1230                                Carlsen Verlag GmbH  \n",
       "1244                                        Klett-Cotta  \n",
       "1245                                        Distribooks  "
      ]
     },
     "execution_count": 74,
     "metadata": {},
     "output_type": "execute_result"
    }
   ],
   "source": [
    "df_ratings[df_ratings.userid == 276847].head(10)"
   ]
  },
  {
   "cell_type": "code",
   "execution_count": 71,
   "metadata": {},
   "outputs": [
    {
     "name": "stdout",
     "output_type": "stream",
     "text": [
      "             isbn        title\n",
      "60888  0440192463  Valediction\n",
      "              isbn                                              title\n",
      "120704  0312272103  McCarthy's Bar: A Journey of Discovery in the ...\n",
      "             isbn                                              title\n",
      "61364  0373226403  Hidden Hearts (Hide And Seek) (Harlequin Intri...\n",
      "              isbn                                              title\n",
      "196230  0156013487  It's the Little Things: Everyday Interactions ...\n",
      "             isbn                                      title\n",
      "31915  0373122772  The Disobedient Mistress  (Sister Brides)\n"
     ]
    }
   ],
   "source": [
    "#output!\n",
    "top5 = ['0440192463','0312272103','0373226403','0156013487','0373122772']\n",
    "\n",
    "for x in top5:\n",
    "    print(df_books[['isbn','title']][df_books.isbn==x])"
   ]
  }
 ],
 "metadata": {
  "kernelspec": {
   "display_name": "Python 3",
   "language": "python",
   "name": "python3"
  },
  "language_info": {
   "codemirror_mode": {
    "name": "ipython",
    "version": 3
   },
   "file_extension": ".py",
   "mimetype": "text/x-python",
   "name": "python",
   "nbconvert_exporter": "python",
   "pygments_lexer": "ipython3",
   "version": "3.6.5"
  }
 },
 "nbformat": 4,
 "nbformat_minor": 2
}

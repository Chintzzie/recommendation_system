{
 "cells": [
  {
   "cell_type": "code",
   "execution_count": 1,
   "metadata": {},
   "outputs": [],
   "source": [
    "import sys\n",
    "#sys.path\n",
    "sys.path.insert(0, '../')"
   ]
  },
  {
   "cell_type": "code",
   "execution_count": 2,
   "metadata": {},
   "outputs": [
    {
     "data": {
      "text/plain": [
       "['../',\n",
       " 'C:\\\\Users\\\\user\\\\Documents\\\\Accelerate\\\\CollaborativeProject\\\\recommendation_system\\\\collaborative_filtering',\n",
       " 'C:\\\\Users\\\\user\\\\Anaconda3\\\\envs\\\\recommender\\\\python37.zip',\n",
       " 'C:\\\\Users\\\\user\\\\Anaconda3\\\\envs\\\\recommender\\\\DLLs',\n",
       " 'C:\\\\Users\\\\user\\\\Anaconda3\\\\envs\\\\recommender\\\\lib',\n",
       " 'C:\\\\Users\\\\user\\\\Anaconda3\\\\envs\\\\recommender',\n",
       " '',\n",
       " 'C:\\\\Users\\\\user\\\\Anaconda3\\\\envs\\\\recommender\\\\lib\\\\site-packages',\n",
       " 'C:\\\\Users\\\\user\\\\Anaconda3\\\\envs\\\\recommender\\\\lib\\\\site-packages\\\\win32',\n",
       " 'C:\\\\Users\\\\user\\\\Anaconda3\\\\envs\\\\recommender\\\\lib\\\\site-packages\\\\win32\\\\lib',\n",
       " 'C:\\\\Users\\\\user\\\\Anaconda3\\\\envs\\\\recommender\\\\lib\\\\site-packages\\\\Pythonwin',\n",
       " 'C:\\\\Users\\\\user\\\\Anaconda3\\\\envs\\\\recommender\\\\lib\\\\site-packages\\\\IPython\\\\extensions',\n",
       " 'C:\\\\Users\\\\user\\\\.ipython']"
      ]
     },
     "execution_count": 2,
     "metadata": {},
     "output_type": "execute_result"
    }
   ],
   "source": [
    "sys.path"
   ]
  },
  {
   "cell_type": "code",
   "execution_count": 3,
   "metadata": {
    "scrolled": true
   },
   "outputs": [],
   "source": [
    "import pandas as pd\n",
    "from Data_cleaning import get_clean_data\n",
    "from Data_cleaning import get_merged_data_frame"
   ]
  },
  {
   "cell_type": "code",
   "execution_count": 4,
   "metadata": {},
   "outputs": [],
   "source": [
    "# Ctrl+/\n",
    "# def merge_data_frame(user_argv=-1, isbn_argv=-1):\n",
    "\n",
    "#     # merge ratings table with users table by user_ID\n",
    "#     df_merges = pd.merge(df_ratings, df_users, on='user')\n",
    "\n",
    "#     # based on the previous df_merges merge with books table by isbn\n",
    "#     df_merges = pd.merge(df_merges, df_books, on='isbn')\n",
    "\n",
    "#     # find user that has more than [No. of review] and filter it\n",
    "#     df_merges['user'] = df_merges.groupby('isbn')['user'].filter(lambda x: len(x) > user_argv)\n",
    "\n",
    "#     # find books that has more than [No. of users] and filter it\n",
    "#     df_merges['isbn'] = df_merges.groupby('user')['isbn'].filter(lambda x: len(x) > isbn_argv)\n",
    "\n",
    "#     # drop out the users that is null\n",
    "#     df_merges = df_merges[pd.notnull(df_merges['user'])]\n",
    "\n",
    "#     # drop out the books that is null\n",
    "#     df_merges = df_merges[pd.notnull(df_merges['isbn'])]\n",
    "\n",
    "#     # convert the user_ID to string type\n",
    "#     df_merges['user'] = df_merges['user'].astype('int').astype('str')\n",
    "\n",
    "#     return df_merges"
   ]
  },
  {
   "cell_type": "markdown",
   "metadata": {},
   "source": [
    "### Load Data  \n",
    "we now load the data using Alfred's framework."
   ]
  },
  {
   "cell_type": "code",
   "execution_count": 5,
   "metadata": {},
   "outputs": [
    {
     "name": "stderr",
     "output_type": "stream",
     "text": [
      "b'Skipping line 6452: expected 8 fields, saw 9\\nSkipping line 43667: expected 8 fields, saw 10\\nSkipping line 51751: expected 8 fields, saw 9\\n'\n",
      "b'Skipping line 92038: expected 8 fields, saw 9\\nSkipping line 104319: expected 8 fields, saw 9\\nSkipping line 121768: expected 8 fields, saw 9\\n'\n",
      "b'Skipping line 144058: expected 8 fields, saw 9\\nSkipping line 150789: expected 8 fields, saw 9\\nSkipping line 157128: expected 8 fields, saw 9\\nSkipping line 180189: expected 8 fields, saw 9\\nSkipping line 185738: expected 8 fields, saw 9\\n'\n",
      "b'Skipping line 209388: expected 8 fields, saw 9\\nSkipping line 220626: expected 8 fields, saw 9\\nSkipping line 227933: expected 8 fields, saw 11\\nSkipping line 228957: expected 8 fields, saw 10\\nSkipping line 245933: expected 8 fields, saw 9\\nSkipping line 251296: expected 8 fields, saw 9\\nSkipping line 259941: expected 8 fields, saw 9\\nSkipping line 261529: expected 8 fields, saw 9\\n'\n",
      "C:\\Users\\user\\Anaconda3\\envs\\recommender\\lib\\site-packages\\IPython\\core\\interactiveshell.py:3267: DtypeWarning: Columns (3) have mixed types. Specify dtype option on import or set low_memory=False.\n",
      "  exec(code_obj, self.user_global_ns, self.user_ns)\n",
      "..\\Data_cleaning.py:89: SettingWithCopyWarning: \n",
      "A value is trying to be set on a copy of a slice from a DataFrame\n",
      "\n",
      "See the caveats in the documentation: http://pandas.pydata.org/pandas-docs/stable/indexing.html#indexing-view-versus-copy\n",
      "  df_users.age[(df_users.age == 0) | (df_users.age > 122)] = None\n"
     ]
    }
   ],
   "source": [
    "df_merged = get_merged_data_frame(user_argv=10, isbn_argv=10, path='../data/')"
   ]
  },
  {
   "cell_type": "code",
   "execution_count": 6,
   "metadata": {},
   "outputs": [],
   "source": [
    "# #cleaned versions of data\n",
    "# df_books, df_users, df_ratings = get_clean_data(path='../data/')\n",
    "\n",
    "# print('df_books:', df_books.shape)\n",
    "# print('df_users:', df_users.shape)\n",
    "# print('df_ratings:', df_ratings.shape)"
   ]
  },
  {
   "cell_type": "markdown",
   "metadata": {},
   "source": [
    "Actually we only need the data from df_ratings. But we merge the data and just deleting most of columns again.\n",
    "We now end with less rows, because we have some ratings without corresponding books in df_books."
   ]
  },
  {
   "cell_type": "code",
   "execution_count": 12,
   "metadata": {},
   "outputs": [
    {
     "name": "stdout",
     "output_type": "stream",
     "text": [
      "(379317, 14)\n",
      "(379317, 3)\n"
     ]
    }
   ],
   "source": [
    "# #df_merges = merge_data_frame() # ????\n",
    "# #data = merge_data_frame(user_argv=-1, isbn_argv=-1)\n",
    "# data = merge_data_frame(user_argv=10, isbn_argv=10)\n",
    "# print(data.shape) \n",
    "# # (1031132, 14)\n",
    "\n",
    "# data = data.drop(['location', 'age', 'country', 'province',\n",
    "#                   'title', 'author', 'pub_year', 'publisher',\n",
    "#                   'url_s', 'url_m', 'url_l'], axis=1)\n",
    "# print(data.shape)\n",
    "\n",
    "# #%% RATINGS THRESHOLD FILTERS\n",
    "# # filter by both ISBN and users\n",
    "# usersPerISBN = data.isbn.value_counts()\n",
    "# ISBNsPerUser = data.user.value_counts()\n",
    "\n",
    "# #print('usersPerISBN', usersPerISBN)\n",
    "# #print('ISBNsPerUser', ISBNsPerUser)"
   ]
  },
  {
   "cell_type": "code",
   "execution_count": 9,
   "metadata": {},
   "outputs": [
    {
     "name": "stdout",
     "output_type": "stream",
     "text": [
      "(379317, 14)\n",
      "(379317, 3)\n"
     ]
    }
   ],
   "source": [
    "print(df_merged.shape)\n",
    "df_merged = df_merged.drop(['location', 'age', 'country', 'province',\n",
    "                   'title', 'author', 'pub_year', 'publisher',\n",
    "                   'url_s', 'url_m', 'url_l'], axis=1)\n",
    "print(df_merged.shape)\n",
    "\n"
   ]
  },
  {
   "cell_type": "code",
   "execution_count": 10,
   "metadata": {},
   "outputs": [
    {
     "data": {
      "text/plain": [
       "[('df_merged', 55236156),\n",
       " ('get_clean_data', 136),\n",
       " ('get_merged_data_frame', 136),\n",
       " ('pd', 80)]"
      ]
     },
     "execution_count": 10,
     "metadata": {},
     "output_type": "execute_result"
    }
   ],
   "source": [
    "import sys\n",
    "\n",
    "# These are the usual ipython objects, including this one you are creating\n",
    "ipython_vars = ['In', 'Out', 'exit', 'quit', 'get_ipython', 'ipython_vars']\n",
    "\n",
    "# Get a sorted list of the objects and their sizes\n",
    "sorted([(x, sys.getsizeof(globals().get(x))) for x in dir() if not x.startswith('_') and x not in sys.modules and x not in ipython_vars], key=lambda x: x[1], reverse=True)"
   ]
  },
  {
   "cell_type": "code",
   "execution_count": 67,
   "metadata": {},
   "outputs": [
    {
     "data": {
      "text/html": [
       "<div>\n",
       "<style scoped>\n",
       "    .dataframe tbody tr th:only-of-type {\n",
       "        vertical-align: middle;\n",
       "    }\n",
       "\n",
       "    .dataframe tbody tr th {\n",
       "        vertical-align: top;\n",
       "    }\n",
       "\n",
       "    .dataframe thead th {\n",
       "        text-align: right;\n",
       "    }\n",
       "</style>\n",
       "<table border=\"1\" class=\"dataframe\">\n",
       "  <thead>\n",
       "    <tr style=\"text-align: right;\">\n",
       "      <th></th>\n",
       "      <th>user</th>\n",
       "      <th>isbn</th>\n",
       "      <th>rating</th>\n",
       "    </tr>\n",
       "  </thead>\n",
       "  <tbody>\n",
       "    <tr>\n",
       "      <th>1</th>\n",
       "      <td>2313</td>\n",
       "      <td>034545104X</td>\n",
       "      <td>5</td>\n",
       "    </tr>\n",
       "    <tr>\n",
       "      <th>51202</th>\n",
       "      <td>2313</td>\n",
       "      <td>0385482388</td>\n",
       "      <td>5</td>\n",
       "    </tr>\n",
       "    <tr>\n",
       "      <th>129253</th>\n",
       "      <td>2313</td>\n",
       "      <td>0399146431</td>\n",
       "      <td>5</td>\n",
       "    </tr>\n",
       "  </tbody>\n",
       "</table>\n",
       "</div>"
      ],
      "text/plain": [
       "        user        isbn  rating\n",
       "1       2313  034545104X       5\n",
       "51202   2313  0385482388       5\n",
       "129253  2313  0399146431       5"
      ]
     },
     "execution_count": 67,
     "metadata": {},
     "output_type": "execute_result"
    }
   ],
   "source": [
    "data.head()\n",
    "data[(data.user == '2313') & (data.rating == 5)]"
   ]
  },
  {
   "cell_type": "markdown",
   "metadata": {},
   "source": [
    "To process "
   ]
  },
  {
   "cell_type": "code",
   "execution_count": 59,
   "metadata": {},
   "outputs": [],
   "source": [
    "#ratings = pd.read_csv('../data/BX-Book-Ratings.csv', sep=';', error_bad_lines=False, encoding=\"iso-8859-1\")\n",
    "#print(ratings.shape) #(1149780, 3)\n",
    "\n",
    "#ratings_referenced = ratings[ratings['ISBN'].isin(df_books.isbn)]\n",
    "#print(ratings_referenced.shape)\n",
    "#ratings['isbn'].isin(list(df_books['isbn']))\n",
    "#df_books.isbn"
   ]
  },
  {
   "cell_type": "markdown",
   "metadata": {},
   "source": [
    "we now threshold our data, i.e. only account for data where users have at least 10 ratings (explicit or implicit).  "
   ]
  },
  {
   "cell_type": "code",
   "execution_count": 60,
   "metadata": {},
   "outputs": [
    {
     "data": {
      "text/plain": [
       "(500229, 3)"
      ]
     },
     "execution_count": 60,
     "metadata": {},
     "output_type": "execute_result"
    }
   ],
   "source": [
    "data.shape"
   ]
  },
  {
   "cell_type": "code",
   "execution_count": 61,
   "metadata": {},
   "outputs": [
    {
     "name": "stdout",
     "output_type": "stream",
     "text": [
      "(500229, 3)\n",
      "(500229, 3)\n"
     ]
    }
   ],
   "source": [
    "print(data.shape) #(1031132, 3)\n",
    "data = data[data[\"isbn\"].isin(usersPerISBN[usersPerISBN>10].index)]\n",
    "print(data.shape) #(500229, 3)"
   ]
  },
  {
   "cell_type": "code",
   "execution_count": 62,
   "metadata": {},
   "outputs": [
    {
     "name": "stdout",
     "output_type": "stream",
     "text": [
      "(500229, 3)\n",
      "(379317, 3)\n"
     ]
    }
   ],
   "source": [
    "print(data.shape) #(500229, 3)\n",
    "data = data[data[\"user\"].isin(ISBNsPerUser[ISBNsPerUser>10].index)]\n",
    "print(data.shape) #(379317, 3)"
   ]
  },
  {
   "cell_type": "code",
   "execution_count": 63,
   "metadata": {},
   "outputs": [],
   "source": [
    "#%% CREATE RATINGS MATRIX\n",
    "userItemRatingMatrix=pd.pivot_table(data, values='rating',\n",
    "                                    index=['user'], columns=['isbn'])\n"
   ]
  },
  {
   "cell_type": "code",
   "execution_count": 79,
   "metadata": {},
   "outputs": [],
   "source": [
    "#type(userItemRatingMatrix)\n",
    "\n",
    "#userItemRatingMatrix.head()\n",
    "#userItemRatingMatrix.columns\n",
    "#2313\n",
    "#userItemRatingMatrix.iloc[2313]\n",
    "#sum(userItemRatingMatrix.iloc[2313] == 5)"
   ]
  },
  {
   "cell_type": "markdown",
   "metadata": {},
   "source": [
    "**what the hell is this?**"
   ]
  },
  {
   "cell_type": "code",
   "execution_count": 80,
   "metadata": {},
   "outputs": [
    {
     "data": {
      "text/plain": [
       "\"import seaborn as sns\\nax = sns.distplot(ratings_per_isbn['count'])\\nax2 = ax.twinx()\\nsns.boxplot(x=ratings_per_isbn['count'], ax=ax2)\\nax2.set(ylim=(-0.5, 10))\""
      ]
     },
     "execution_count": 80,
     "metadata": {},
     "output_type": "execute_result"
    }
   ],
   "source": [
    "#%% THRESHOLD CI\n",
    "\"\"\"\"\"\"from scipy.stats import sem, t\n",
    "from scipy import mean\n",
    "confidence = 0.95\n",
    "data = ratings_per_isbn['count']\n",
    "\n",
    "n = len(data)\n",
    "m = mean(data)\n",
    "std_err = sem(data)\n",
    "h = std_err * t.ppf((1 + confidence) / 2, n - 1)\n",
    "\n",
    "start = m - h\n",
    "print (start)\"\"\"\n",
    "#%% VIS ISBN & USER COUNT\n",
    "\"\"\"import seaborn as sns\n",
    "ax = sns.distplot(ratings_per_isbn['count'])\n",
    "ax2 = ax.twinx()\n",
    "sns.boxplot(x=ratings_per_isbn['count'], ax=ax2)\n",
    "ax2.set(ylim=(-0.5, 10))\"\"\"\n"
   ]
  },
  {
   "cell_type": "code",
   "execution_count": 81,
   "metadata": {},
   "outputs": [],
   "source": [
    "#%%\n",
    "import numpy as np\n",
    "from scipy.spatial.distance import hamming\n",
    "\n",
    "def distance(user1,user2):\n",
    "        try:\n",
    "            user1Ratings = userItemRatingMatrix.transpose()[str(user1)]\n",
    "            user2Ratings = userItemRatingMatrix.transpose()[str(user2)]\n",
    "            distance = hamming(user1Ratings,user2Ratings)\n",
    "        except: \n",
    "            distance = np.NaN\n",
    "        return distance \n",
    "#%%\n",
    "def nearestNeighbors(user,K=10):\n",
    "    allUsers = pd.DataFrame(userItemRatingMatrix.index)\n",
    "    allUsers = allUsers[allUsers.user!=user]\n",
    "    allUsers[\"distance\"] = allUsers[\"user\"].apply(lambda x: distance(user,x))\n",
    "    KnearestUsers = allUsers.sort_values([\"distance\"],ascending=True)[\"user\"][:K]\n",
    "    return KnearestUsers\n"
   ]
  },
  {
   "cell_type": "code",
   "execution_count": 82,
   "metadata": {},
   "outputs": [
    {
     "data": {
      "text/plain": [
       "'\"avgRating = avgRating[~avgRating.index.isin(booksAlreadyRead)]'"
      ]
     },
     "execution_count": 82,
     "metadata": {},
     "output_type": "execute_result"
    }
   ],
   "source": [
    "#%% DEBUGGING\n",
    "\"\"\"NNRatings = userItemRatingMatrix[userItemRatingMatrix.index.isin(KnearestUsers)]\n",
    "NNRatings\"\"\"\n",
    "\"\"\"avgRating = NNRatings.apply(np.nanmean).dropna()\n",
    "avgRating.head()\"\"\"\n",
    "\"\"\"booksAlreadyRead = userItemRatingMatrix.transpose()[str(user)].dropna().index\n",
    "booksAlreadyRead\"\"\"\n",
    "\"\"\"\"avgRating = avgRating[~avgRating.index.isin(booksAlreadyRead)]\"\"\"\n"
   ]
  },
  {
   "cell_type": "code",
   "execution_count": 96,
   "metadata": {},
   "outputs": [],
   "source": [
    "#%%\n",
    "def bookMeta(isbn):\n",
    "#df_books.set_index('isbn', inplace=True)\n",
    "#    title = books.at[isbn,\"title\"]\n",
    "#    author = books.at[isbn,\"author\"]\n",
    "    title = df_books.at[isbn,\"title\"]\n",
    "    author = df_books.at[isbn,\"author\"]\n",
    "    return title, author\n",
    "\n",
    "def faveBooks(user,N):\n",
    "    userRatings = data[data[\"user\"]==user]\n",
    "    sortedRatings = pd.DataFrame.sort_values(userRatings,['rating'],ascending=[0])[:N] \n",
    "    sortedRatings[\"title\"] = sortedRatings[\"isbn\"].apply(bookMeta)\n",
    "    return sortedRatings\n",
    "\n",
    "def topN(user,N=3):\n",
    "    KnearestUsers = nearestNeighbors(user)\n",
    "    NNRatings = userItemRatingMatrix[userItemRatingMatrix.index.isin(KnearestUsers)]\n",
    "    avgRating = NNRatings.apply(np.nanmean).dropna()\n",
    "    booksAlreadyRead = userItemRatingMatrix.transpose()[user].dropna().index\n",
    "    avgRating = avgRating[~avgRating.index.isin(booksAlreadyRead)]\n",
    "    topNISBNs = avgRating.sort_values(ascending=False).index[:N]\n",
    "    return pd.Series(topNISBNs).apply(bookMeta)\n"
   ]
  },
  {
   "cell_type": "code",
   "execution_count": 97,
   "metadata": {},
   "outputs": [
    {
     "data": {
      "text/plain": [
       "\"user = '204622'\\ntopN(user)\""
      ]
     },
     "execution_count": 97,
     "metadata": {},
     "output_type": "execute_result"
    }
   ],
   "source": [
    "#%% DEBUGGING\n",
    "\"\"\"N=3\n",
    "topNISBNs = avgRating.sort_values(ascending=False).index[:N]\n",
    "pd.Series(topNISBNs).apply(bookMeta)\"\"\"\n",
    "\"\"\"user = '204622'\n",
    "topN(user)\"\"\"\n"
   ]
  },
  {
   "cell_type": "code",
   "execution_count": 98,
   "metadata": {},
   "outputs": [
    {
     "data": {
      "text/plain": [
       "\"user = '204622'\\ntopN(user)\""
      ]
     },
     "execution_count": 98,
     "metadata": {},
     "output_type": "execute_result"
    }
   ],
   "source": [
    "#%% DEBUGGING\n",
    "\"\"\"N=3\n",
    "topNISBNs = avgRating.sort_values(ascending=False).index[:N]\n",
    "pd.Series(topNISBNs).apply(bookMeta)\"\"\"\n",
    "\"\"\"user = '204622'\n",
    "topN(user)\"\"\"\n"
   ]
  },
  {
   "cell_type": "code",
   "execution_count": 99,
   "metadata": {},
   "outputs": [
    {
     "data": {
      "text/plain": [
       "Index(['0195153448', '0002005018', '0060973129', '0374157065', '0393045218',\n",
       "       '0399135782', '0425176428', '0671870432', '0679425608', '074322678X',\n",
       "       ...\n",
       "       '0762412119', '1582380805', '1845170423', '014002803X', '0449906736',\n",
       "       '0440400988', '0525447644', '006008667X', '0192126040', '0767409752'],\n",
       "      dtype='object', name='isbn', length=271357)"
      ]
     },
     "execution_count": 99,
     "metadata": {},
     "output_type": "execute_result"
    }
   ],
   "source": [
    "df_books.index\n",
    "#df_books.set_index('isbn', inplace=True)"
   ]
  },
  {
   "cell_type": "code",
   "execution_count": 100,
   "metadata": {},
   "outputs": [
    {
     "data": {
      "text/plain": [
       "('Flesh Tones: A Novel', 'M. J. Rose')"
      ]
     },
     "execution_count": 100,
     "metadata": {},
     "output_type": "execute_result"
    }
   ],
   "source": [
    "bookMeta('034545104X')"
   ]
  },
  {
   "cell_type": "code",
   "execution_count": 102,
   "metadata": {},
   "outputs": [
    {
     "data": {
      "text/html": [
       "<div>\n",
       "<style scoped>\n",
       "    .dataframe tbody tr th:only-of-type {\n",
       "        vertical-align: middle;\n",
       "    }\n",
       "\n",
       "    .dataframe tbody tr th {\n",
       "        vertical-align: top;\n",
       "    }\n",
       "\n",
       "    .dataframe thead th {\n",
       "        text-align: right;\n",
       "    }\n",
       "</style>\n",
       "<table border=\"1\" class=\"dataframe\">\n",
       "  <thead>\n",
       "    <tr style=\"text-align: right;\">\n",
       "      <th></th>\n",
       "      <th>user</th>\n",
       "      <th>isbn</th>\n",
       "      <th>rating</th>\n",
       "      <th>title</th>\n",
       "    </tr>\n",
       "  </thead>\n",
       "  <tbody>\n",
       "    <tr>\n",
       "      <th>8575</th>\n",
       "      <td>204622</td>\n",
       "      <td>0385504209</td>\n",
       "      <td>10</td>\n",
       "      <td>(The Da Vinci Code, Dan Brown)</td>\n",
       "    </tr>\n",
       "    <tr>\n",
       "      <th>65948</th>\n",
       "      <td>204622</td>\n",
       "      <td>0671027360</td>\n",
       "      <td>10</td>\n",
       "      <td>(Angels &amp;amp; Demons, Dan Brown)</td>\n",
       "    </tr>\n",
       "    <tr>\n",
       "      <th>169393</th>\n",
       "      <td>204622</td>\n",
       "      <td>0060935464</td>\n",
       "      <td>9</td>\n",
       "      <td>(To Kill a Mockingbird, Harper Lee)</td>\n",
       "    </tr>\n",
       "    <tr>\n",
       "      <th>499333</th>\n",
       "      <td>204622</td>\n",
       "      <td>1878424114</td>\n",
       "      <td>9</td>\n",
       "      <td>(The Seven Spiritual Laws of Success: A Practi...</td>\n",
       "    </tr>\n",
       "    <tr>\n",
       "      <th>484364</th>\n",
       "      <td>204622</td>\n",
       "      <td>0671666258</td>\n",
       "      <td>8</td>\n",
       "      <td>(American Star, Jackie Collins)</td>\n",
       "    </tr>\n",
       "  </tbody>\n",
       "</table>\n",
       "</div>"
      ],
      "text/plain": [
       "          user        isbn  rating  \\\n",
       "8575    204622  0385504209      10   \n",
       "65948   204622  0671027360      10   \n",
       "169393  204622  0060935464       9   \n",
       "499333  204622  1878424114       9   \n",
       "484364  204622  0671666258       8   \n",
       "\n",
       "                                                    title  \n",
       "8575                       (The Da Vinci Code, Dan Brown)  \n",
       "65948                    (Angels &amp; Demons, Dan Brown)  \n",
       "169393                (To Kill a Mockingbird, Harper Lee)  \n",
       "499333  (The Seven Spiritual Laws of Success: A Practi...  \n",
       "484364                    (American Star, Jackie Collins)  "
      ]
     },
     "execution_count": 102,
     "metadata": {},
     "output_type": "execute_result"
    }
   ],
   "source": [
    "faveBooks('204622', 5)"
   ]
  },
  {
   "cell_type": "code",
   "execution_count": 103,
   "metadata": {},
   "outputs": [
    {
     "name": "stderr",
     "output_type": "stream",
     "text": [
      "C:\\Users\\user\\Anaconda3\\envs\\recommender\\lib\\site-packages\\pandas\\core\\apply.py:242: RuntimeWarning: Mean of empty slice\n",
      "  labels=labels)\n"
     ]
    },
    {
     "data": {
      "text/plain": [
       "0              (Love, Greg &amp; Lauren, Greg Manning)\n",
       "1    (The Two Towers (The Lord of the Rings, Part 2...\n",
       "2    (Harry Potter and the Sorcerer's Stone (Book 1...\n",
       "3                       (Charlotte's Web, E. B. White)\n",
       "4             (The Secret Life of Bees, Sue Monk Kidd)\n",
       "Name: isbn, dtype: object"
      ]
     },
     "execution_count": 103,
     "metadata": {},
     "output_type": "execute_result"
    }
   ],
   "source": [
    "topN('204622', 5)"
   ]
  },
  {
   "cell_type": "code",
   "execution_count": null,
   "metadata": {},
   "outputs": [],
   "source": []
  },
  {
   "cell_type": "code",
   "execution_count": null,
   "metadata": {},
   "outputs": [],
   "source": []
  }
 ],
 "metadata": {
  "kernelspec": {
   "display_name": "Python 3",
   "language": "python",
   "name": "python3"
  },
  "language_info": {
   "codemirror_mode": {
    "name": "ipython",
    "version": 3
   },
   "file_extension": ".py",
   "mimetype": "text/x-python",
   "name": "python",
   "nbconvert_exporter": "python",
   "pygments_lexer": "ipython3",
   "version": "3.7.1"
  }
 },
 "nbformat": 4,
 "nbformat_minor": 2
}

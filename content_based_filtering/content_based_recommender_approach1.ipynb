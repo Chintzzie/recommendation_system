{
 "cells": [
  {
   "cell_type": "markdown",
   "metadata": {},
   "source": [
    "# Content-Based Filtering model  \n",
    "## Approach 1: Recommendation through Description of the Content\n",
    "In this approach based on the **description** of the item, the user is suggested an item. The description goes deeper into the product details, i.e title, summary, taglines, genre. It provides much more information about the item. The format of these details are in text format(string) and is important to convert "
   ]
  },
  {
   "cell_type": "markdown",
   "metadata": {},
   "source": [
    "**Term Frequency-Inverse Document Frequency(TF-IDF)**\n",
    "TF-IDF is used in Information Retrieval for feature extraction purposes and it is a sub-area of Natural Language Processing(NLP).\n",
    "\n",
    "Term Frequency- Frequency of the word in the current document to the total number of words in the document. It signifies the occurrence of the word in a document and gives higher weight when the frequency is more so it is divided by document length to normalize.\n",
    "\n",
    "![TF](https://cdn-images-1.medium.com/max/800/1*5s81Q5RYPUSxDqPr0gG4qw.png)\n",
    "\n",
    "Inverse Document Frequency- Total Number of Documents to the frequency occurrence of documents containing the word. It signifies the rarity of the word as the word occurring the document is less the IDF increases. It helps in giving a higher score to rare terms in the documents.\n",
    "\n",
    "![IDF](https://cdn-images-1.medium.com/max/800/1*BwOL05kcXjty9ctYUvntbQ.png)\n",
    "\n",
    "TF-IDF\n",
    "In the End, TF-IDF is a measure used to evaluate how important a word is to a document in a document corpus. The importance of the word increases proportionally to the number of times a word appears in the document but is offset by the frequency of the word in the corpus.\n",
    "\n",
    "![TFIDF](https://cdn-images-1.medium.com/max/800/1*XP-YYe-mDQWVEDJWQG0-rg.png)"
   ]
  },
  {
   "cell_type": "code",
   "execution_count": 1,
   "metadata": {},
   "outputs": [],
   "source": [
    "import numpy as np\n",
    "import pandas as pd\n",
    "import sklearn\n",
    "from nltk.corpus import stopwords\n",
    "from sklearn.feature_extraction.text import TfidfVectorizer\n",
    "from sklearn.metrics.pairwise import cosine_similarity\n",
    "from sklearn.metrics.pairwise import linear_kernel\n",
    "from Data_cleaning import *"
   ]
  },
  {
   "cell_type": "code",
   "execution_count": 2,
   "metadata": {
    "scrolled": true
   },
   "outputs": [
    {
     "name": "stderr",
     "output_type": "stream",
     "text": [
      "b'Skipping line 6452: expected 8 fields, saw 9\\nSkipping line 43667: expected 8 fields, saw 10\\nSkipping line 51751: expected 8 fields, saw 9\\n'\n",
      "b'Skipping line 92038: expected 8 fields, saw 9\\nSkipping line 104319: expected 8 fields, saw 9\\nSkipping line 121768: expected 8 fields, saw 9\\n'\n",
      "b'Skipping line 144058: expected 8 fields, saw 9\\nSkipping line 150789: expected 8 fields, saw 9\\nSkipping line 157128: expected 8 fields, saw 9\\nSkipping line 180189: expected 8 fields, saw 9\\nSkipping line 185738: expected 8 fields, saw 9\\n'\n",
      "b'Skipping line 209388: expected 8 fields, saw 9\\nSkipping line 220626: expected 8 fields, saw 9\\nSkipping line 227933: expected 8 fields, saw 11\\nSkipping line 228957: expected 8 fields, saw 10\\nSkipping line 245933: expected 8 fields, saw 9\\nSkipping line 251296: expected 8 fields, saw 9\\nSkipping line 259941: expected 8 fields, saw 9\\nSkipping line 261529: expected 8 fields, saw 9\\n'\n",
      "/Users/Kevin/anaconda3/lib/python3.6/site-packages/IPython/core/interactiveshell.py:2901: DtypeWarning: Columns (3) have mixed types. Specify dtype option on import or set low_memory=False.\n",
      "  if self.run_code(code, result):\n",
      "/Users/Kevin/Documents/Data Science/Xccelerate - Full-Time Data Science & Machine Learning/Collaborative Projects/Recommendation System/Data_cleaning.py:65: SettingWithCopyWarning: \n",
      "A value is trying to be set on a copy of a slice from a DataFrame\n",
      "\n",
      "See the caveats in the documentation: http://pandas.pydata.org/pandas-docs/stable/indexing.html#indexing-view-versus-copy\n",
      "  df_users.age[(df_users.age == 0) | (df_users.age > 122)] = None\n"
     ]
    }
   ],
   "source": [
    "#import books, users, ratings clean data\n",
    "books, users, ratings = get_clean_data()"
   ]
  },
  {
   "cell_type": "code",
   "execution_count": 3,
   "metadata": {
    "scrolled": true
   },
   "outputs": [
    {
     "data": {
      "text/html": [
       "<div>\n",
       "<style scoped>\n",
       "    .dataframe tbody tr th:only-of-type {\n",
       "        vertical-align: middle;\n",
       "    }\n",
       "\n",
       "    .dataframe tbody tr th {\n",
       "        vertical-align: top;\n",
       "    }\n",
       "\n",
       "    .dataframe thead th {\n",
       "        text-align: right;\n",
       "    }\n",
       "</style>\n",
       "<table border=\"1\" class=\"dataframe\">\n",
       "  <thead>\n",
       "    <tr style=\"text-align: right;\">\n",
       "      <th></th>\n",
       "      <th>isbn</th>\n",
       "      <th>title</th>\n",
       "      <th>author</th>\n",
       "      <th>pub_year</th>\n",
       "      <th>publisher</th>\n",
       "      <th>url_s</th>\n",
       "      <th>url_m</th>\n",
       "      <th>url_l</th>\n",
       "    </tr>\n",
       "  </thead>\n",
       "  <tbody>\n",
       "    <tr>\n",
       "      <th>0</th>\n",
       "      <td>0195153448</td>\n",
       "      <td>Classical Mythology</td>\n",
       "      <td>Mark P. O. Morford</td>\n",
       "      <td>2002.0</td>\n",
       "      <td>Oxford University Press</td>\n",
       "      <td>http://images.amazon.com/images/P/0195153448.0...</td>\n",
       "      <td>http://images.amazon.com/images/P/0195153448.0...</td>\n",
       "      <td>http://images.amazon.com/images/P/0195153448.0...</td>\n",
       "    </tr>\n",
       "    <tr>\n",
       "      <th>1</th>\n",
       "      <td>0002005018</td>\n",
       "      <td>Clara Callan</td>\n",
       "      <td>Richard Bruce Wright</td>\n",
       "      <td>2001.0</td>\n",
       "      <td>HarperFlamingo Canada</td>\n",
       "      <td>http://images.amazon.com/images/P/0002005018.0...</td>\n",
       "      <td>http://images.amazon.com/images/P/0002005018.0...</td>\n",
       "      <td>http://images.amazon.com/images/P/0002005018.0...</td>\n",
       "    </tr>\n",
       "    <tr>\n",
       "      <th>2</th>\n",
       "      <td>0060973129</td>\n",
       "      <td>Decision in Normandy</td>\n",
       "      <td>Carlo D'Este</td>\n",
       "      <td>1991.0</td>\n",
       "      <td>HarperPerennial</td>\n",
       "      <td>http://images.amazon.com/images/P/0060973129.0...</td>\n",
       "      <td>http://images.amazon.com/images/P/0060973129.0...</td>\n",
       "      <td>http://images.amazon.com/images/P/0060973129.0...</td>\n",
       "    </tr>\n",
       "    <tr>\n",
       "      <th>3</th>\n",
       "      <td>0374157065</td>\n",
       "      <td>Flu: The Story of the Great Influenza Pandemic...</td>\n",
       "      <td>Gina Bari Kolata</td>\n",
       "      <td>1999.0</td>\n",
       "      <td>Farrar Straus Giroux</td>\n",
       "      <td>http://images.amazon.com/images/P/0374157065.0...</td>\n",
       "      <td>http://images.amazon.com/images/P/0374157065.0...</td>\n",
       "      <td>http://images.amazon.com/images/P/0374157065.0...</td>\n",
       "    </tr>\n",
       "    <tr>\n",
       "      <th>4</th>\n",
       "      <td>0393045218</td>\n",
       "      <td>The Mummies of Urumchi</td>\n",
       "      <td>E. J. W. Barber</td>\n",
       "      <td>1999.0</td>\n",
       "      <td>W. W. Norton &amp;amp; Company</td>\n",
       "      <td>http://images.amazon.com/images/P/0393045218.0...</td>\n",
       "      <td>http://images.amazon.com/images/P/0393045218.0...</td>\n",
       "      <td>http://images.amazon.com/images/P/0393045218.0...</td>\n",
       "    </tr>\n",
       "  </tbody>\n",
       "</table>\n",
       "</div>"
      ],
      "text/plain": [
       "         isbn                                              title  \\\n",
       "0  0195153448                                Classical Mythology   \n",
       "1  0002005018                                       Clara Callan   \n",
       "2  0060973129                               Decision in Normandy   \n",
       "3  0374157065  Flu: The Story of the Great Influenza Pandemic...   \n",
       "4  0393045218                             The Mummies of Urumchi   \n",
       "\n",
       "                 author  pub_year                   publisher  \\\n",
       "0    Mark P. O. Morford    2002.0     Oxford University Press   \n",
       "1  Richard Bruce Wright    2001.0       HarperFlamingo Canada   \n",
       "2          Carlo D'Este    1991.0             HarperPerennial   \n",
       "3      Gina Bari Kolata    1999.0        Farrar Straus Giroux   \n",
       "4       E. J. W. Barber    1999.0  W. W. Norton &amp; Company   \n",
       "\n",
       "                                               url_s  \\\n",
       "0  http://images.amazon.com/images/P/0195153448.0...   \n",
       "1  http://images.amazon.com/images/P/0002005018.0...   \n",
       "2  http://images.amazon.com/images/P/0060973129.0...   \n",
       "3  http://images.amazon.com/images/P/0374157065.0...   \n",
       "4  http://images.amazon.com/images/P/0393045218.0...   \n",
       "\n",
       "                                               url_m  \\\n",
       "0  http://images.amazon.com/images/P/0195153448.0...   \n",
       "1  http://images.amazon.com/images/P/0002005018.0...   \n",
       "2  http://images.amazon.com/images/P/0060973129.0...   \n",
       "3  http://images.amazon.com/images/P/0374157065.0...   \n",
       "4  http://images.amazon.com/images/P/0393045218.0...   \n",
       "\n",
       "                                               url_l  \n",
       "0  http://images.amazon.com/images/P/0195153448.0...  \n",
       "1  http://images.amazon.com/images/P/0002005018.0...  \n",
       "2  http://images.amazon.com/images/P/0060973129.0...  \n",
       "3  http://images.amazon.com/images/P/0374157065.0...  \n",
       "4  http://images.amazon.com/images/P/0393045218.0...  "
      ]
     },
     "execution_count": 3,
     "metadata": {},
     "output_type": "execute_result"
    }
   ],
   "source": [
    "books.head()"
   ]
  },
  {
   "cell_type": "code",
   "execution_count": 4,
   "metadata": {},
   "outputs": [
    {
     "data": {
      "text/html": [
       "<div>\n",
       "<style scoped>\n",
       "    .dataframe tbody tr th:only-of-type {\n",
       "        vertical-align: middle;\n",
       "    }\n",
       "\n",
       "    .dataframe tbody tr th {\n",
       "        vertical-align: top;\n",
       "    }\n",
       "\n",
       "    .dataframe thead th {\n",
       "        text-align: right;\n",
       "    }\n",
       "</style>\n",
       "<table border=\"1\" class=\"dataframe\">\n",
       "  <thead>\n",
       "    <tr style=\"text-align: right;\">\n",
       "      <th></th>\n",
       "      <th>user</th>\n",
       "      <th>isbn</th>\n",
       "      <th>rating</th>\n",
       "    </tr>\n",
       "  </thead>\n",
       "  <tbody>\n",
       "    <tr>\n",
       "      <th>0</th>\n",
       "      <td>276725</td>\n",
       "      <td>034545104X</td>\n",
       "      <td>0</td>\n",
       "    </tr>\n",
       "    <tr>\n",
       "      <th>1</th>\n",
       "      <td>276726</td>\n",
       "      <td>0155061224</td>\n",
       "      <td>5</td>\n",
       "    </tr>\n",
       "    <tr>\n",
       "      <th>2</th>\n",
       "      <td>276727</td>\n",
       "      <td>0446520802</td>\n",
       "      <td>0</td>\n",
       "    </tr>\n",
       "    <tr>\n",
       "      <th>3</th>\n",
       "      <td>276729</td>\n",
       "      <td>052165615X</td>\n",
       "      <td>3</td>\n",
       "    </tr>\n",
       "    <tr>\n",
       "      <th>4</th>\n",
       "      <td>276729</td>\n",
       "      <td>0521795028</td>\n",
       "      <td>6</td>\n",
       "    </tr>\n",
       "  </tbody>\n",
       "</table>\n",
       "</div>"
      ],
      "text/plain": [
       "     user        isbn  rating\n",
       "0  276725  034545104X       0\n",
       "1  276726  0155061224       5\n",
       "2  276727  0446520802       0\n",
       "3  276729  052165615X       3\n",
       "4  276729  0521795028       6"
      ]
     },
     "execution_count": 4,
     "metadata": {},
     "output_type": "execute_result"
    }
   ],
   "source": [
    "ratings.head()"
   ]
  },
  {
   "cell_type": "code",
   "execution_count": 5,
   "metadata": {
    "scrolled": true
   },
   "outputs": [
    {
     "data": {
      "text/plain": [
       "0971880107    2502\n",
       "0316666343    1295\n",
       "0385504209     883\n",
       "0060928336     732\n",
       "0312195516     723\n",
       "044023722X     647\n",
       "0679781587     639\n",
       "0142001740     615\n",
       "067976402X     614\n",
       "0671027360     586\n",
       "0446672211     585\n",
       "059035342X     571\n",
       "0316601950     568\n",
       "0375727345     552\n",
       "044021145X     529\n",
       "0452282152     526\n",
       "0440214041     523\n",
       "0804106304     519\n",
       "0440211727     517\n",
       "0345337662     506\n",
       "0060930535     494\n",
       "0440226430     482\n",
       "0312278586     474\n",
       "0743418174     470\n",
       "0671021001     468\n",
       "0345370775     466\n",
       "0446605239     465\n",
       "0156027321     462\n",
       "0440241073     456\n",
       "0671003755     446\n",
       "              ... \n",
       "8775600382       1\n",
       "086051286X       1\n",
       "3442433061       1\n",
       "0374520011       1\n",
       "8481304123       1\n",
       "037319062X       1\n",
       "8420428701       1\n",
       "0552125075       1\n",
       "0945466242       1\n",
       "0441009891       1\n",
       "0733534104       1\n",
       "0142004073       1\n",
       "0871312212       1\n",
       "0743212088       1\n",
       "0385601689       1\n",
       "345272552        1\n",
       "0394731115       1\n",
       "1570820341       1\n",
       "0062503227       1\n",
       "1569244405       1\n",
       "1858600049       1\n",
       "0964483807       1\n",
       "0393323536       1\n",
       "042514237X       1\n",
       "0669119105       1\n",
       "3499126575       1\n",
       "0791417808       1\n",
       "3577135158       1\n",
       "0449502775       1\n",
       "0671223208       1\n",
       "Name: isbn, Length: 340556, dtype: int64"
      ]
     },
     "execution_count": 5,
     "metadata": {},
     "output_type": "execute_result"
    }
   ],
   "source": [
    "#number of ratings received by each book\n",
    "usersPerIsbn = ratings['isbn'].value_counts()\n",
    "usersPerIsbn"
   ]
  },
  {
   "cell_type": "markdown",
   "metadata": {},
   "source": [
    "Filtering books with less than 10 ratings from users"
   ]
  },
  {
   "cell_type": "code",
   "execution_count": 6,
   "metadata": {},
   "outputs": [],
   "source": [
    "books_10 = books[books['isbn'].isin(usersPerIsbn[usersPerIsbn>10].index)]"
   ]
  },
  {
   "cell_type": "code",
   "execution_count": 7,
   "metadata": {},
   "outputs": [
    {
     "data": {
      "text/plain": [
       "(15452, 8)"
      ]
     },
     "execution_count": 7,
     "metadata": {},
     "output_type": "execute_result"
    }
   ],
   "source": [
    "books_10.shape"
   ]
  },
  {
   "cell_type": "markdown",
   "metadata": {},
   "source": [
    "There are only **15,452** books remaining."
   ]
  },
  {
   "cell_type": "markdown",
   "metadata": {},
   "source": [
    "Using `Book-Title` only for TFIDF"
   ]
  },
  {
   "cell_type": "code",
   "execution_count": 8,
   "metadata": {},
   "outputs": [],
   "source": [
    "stopwords_list = stopwords.words('english')"
   ]
  },
  {
   "cell_type": "code",
   "execution_count": 9,
   "metadata": {},
   "outputs": [],
   "source": [
    "vectorizer = TfidfVectorizer(analyzer='word')"
   ]
  },
  {
   "cell_type": "code",
   "execution_count": 10,
   "metadata": {},
   "outputs": [],
   "source": [
    "#build book-title tfidf matrix\n",
    "tfidf_matrix = vectorizer.fit_transform(books_10['title'])"
   ]
  },
  {
   "cell_type": "code",
   "execution_count": 11,
   "metadata": {},
   "outputs": [],
   "source": [
    "tfidf_feature_name = vectorizer.get_feature_names()"
   ]
  },
  {
   "cell_type": "code",
   "execution_count": 12,
   "metadata": {},
   "outputs": [
    {
     "data": {
      "text/plain": [
       "(15452, 10972)"
      ]
     },
     "execution_count": 12,
     "metadata": {},
     "output_type": "execute_result"
    }
   ],
   "source": [
    "tfidf_matrix.shape"
   ]
  },
  {
   "cell_type": "code",
   "execution_count": 13,
   "metadata": {
    "scrolled": true
   },
   "outputs": [],
   "source": [
    "# comping cosine similarity matrix using linear_kernal of sklearn\n",
    "cosine_similarity = linear_kernel(tfidf_matrix, tfidf_matrix)"
   ]
  },
  {
   "cell_type": "code",
   "execution_count": 14,
   "metadata": {},
   "outputs": [],
   "source": [
    "books_10 = books_10.reset_index(drop=True)"
   ]
  },
  {
   "cell_type": "code",
   "execution_count": 15,
   "metadata": {},
   "outputs": [],
   "source": [
    "indices = pd.Series(books_10['title'].index)"
   ]
  },
  {
   "cell_type": "code",
   "execution_count": 16,
   "metadata": {},
   "outputs": [],
   "source": [
    "#Function to get the most similar books\n",
    "def recommend(index, method):\n",
    "    id = indices[index]\n",
    "    # Get the pairwise similarity scores of all books compared that book,\n",
    "    # sorting them and getting top 5\n",
    "    similarity_scores = list(enumerate(method[id]))\n",
    "    similarity_scores = sorted(similarity_scores, key=lambda x: x[1], reverse=True)\n",
    "    similarity_scores = similarity_scores[1:6]\n",
    "    \n",
    "    #Get the books index\n",
    "    books_index = [i[0] for i in similarity_scores]\n",
    "    \n",
    "    #Return the top 5 most similar books using integar-location based indexing (iloc)\n",
    "    return books_10['title'].iloc[books_index]"
   ]
  },
  {
   "cell_type": "code",
   "execution_count": 17,
   "metadata": {
    "scrolled": true
   },
   "outputs": [
    {
     "data": {
      "text/plain": [
       "11488                                          The Odyssey\n",
       "14633                                          The Odyssey\n",
       "4000                                           Killer Hair\n",
       "9422                             The Odyssey (Classics S.)\n",
       "4174     Longitude: The True Story of a Lone Genius Who...\n",
       "Name: title, dtype: object"
      ]
     },
     "execution_count": 17,
     "metadata": {},
     "output_type": "execute_result"
    }
   ],
   "source": [
    "#input the index of the book\n",
    "recommend(1000, cosine_similarity)"
   ]
  },
  {
   "cell_type": "code",
   "execution_count": 18,
   "metadata": {},
   "outputs": [
    {
     "data": {
      "text/plain": [
       "isbn                                                076790351X\n",
       "title        Beethoven's Hair : An Extraordinary Historical...\n",
       "author                                          RUSSELL MARTIN\n",
       "pub_year                                                  2001\n",
       "publisher                                             Broadway\n",
       "url_s        http://images.amazon.com/images/P/076790351X.0...\n",
       "url_m        http://images.amazon.com/images/P/076790351X.0...\n",
       "url_l        http://images.amazon.com/images/P/076790351X.0...\n",
       "Name: 1000, dtype: object"
      ]
     },
     "execution_count": 18,
     "metadata": {},
     "output_type": "execute_result"
    }
   ],
   "source": [
    "books_10.iloc[1000]"
   ]
  },
  {
   "cell_type": "markdown",
   "metadata": {},
   "source": [
    "Using `Book-Title`, `Book-Author`, `Publisher` as content for TFIDF"
   ]
  },
  {
   "cell_type": "code",
   "execution_count": 19,
   "metadata": {},
   "outputs": [],
   "source": [
    "books_10['all_content'] = books_10['title'] + books_10['author'] + books_10['publisher']"
   ]
  },
  {
   "cell_type": "code",
   "execution_count": 20,
   "metadata": {},
   "outputs": [],
   "source": [
    "tfidf_all_content = vectorizer.fit_transform(books_10['all_content'])"
   ]
  },
  {
   "cell_type": "code",
   "execution_count": 21,
   "metadata": {},
   "outputs": [
    {
     "data": {
      "text/plain": [
       "(15452, 25806)"
      ]
     },
     "execution_count": 21,
     "metadata": {},
     "output_type": "execute_result"
    }
   ],
   "source": [
    "tfidf_all_content.shape"
   ]
  },
  {
   "cell_type": "code",
   "execution_count": 22,
   "metadata": {},
   "outputs": [],
   "source": [
    "# comping cosine similarity matrix using linear_kernal of sklearn\n",
    "cosine_similarity_all_content = linear_kernel(tfidf_all_content, tfidf_all_content)"
   ]
  },
  {
   "cell_type": "code",
   "execution_count": 23,
   "metadata": {
    "scrolled": true
   },
   "outputs": [
    {
     "data": {
      "text/plain": [
       "2576                                       The Tao of Pooh\n",
       "5983                                      The Te of Piglet\n",
       "14378                      Tao Te Ching (Penguin Classics)\n",
       "13886    The Eye of the World : Book One of 'The Wheel ...\n",
       "13869    The Return of the King (Lord of the Rings (Pap...\n",
       "Name: title, dtype: object"
      ]
     },
     "execution_count": 23,
     "metadata": {},
     "output_type": "execute_result"
    }
   ],
   "source": [
    "recommend(33, cosine_similarity_all_content)"
   ]
  },
  {
   "cell_type": "markdown",
   "metadata": {},
   "source": [
    "### Book description\n",
    "Since we want to have more detail for buildling tfidf matrix, we have further scrape the book description from online available api. Book detail is scraped based on the *15,452* books"
   ]
  },
  {
   "cell_type": "code",
   "execution_count": 24,
   "metadata": {
    "scrolled": true
   },
   "outputs": [],
   "source": [
    "books_n = pd.read_csv('books_n_description.csv')"
   ]
  },
  {
   "cell_type": "code",
   "execution_count": 25,
   "metadata": {},
   "outputs": [],
   "source": [
    "books_wd = books_n[books_n['description'].notnull()].copy()"
   ]
  },
  {
   "cell_type": "code",
   "execution_count": 26,
   "metadata": {},
   "outputs": [],
   "source": [
    "# only retain record with more than 5 characters description\n",
    "books_wd = books_n[books_n['description'].notnull()].copy()\n",
    "books_wd = books_wd[books_wd['description'].map(len) >5]"
   ]
  },
  {
   "cell_type": "code",
   "execution_count": 27,
   "metadata": {},
   "outputs": [],
   "source": [
    "books_wd.reset_index(drop=True, inplace=True)"
   ]
  },
  {
   "cell_type": "code",
   "execution_count": 28,
   "metadata": {},
   "outputs": [],
   "source": [
    "books_wd.drop(columns=['Unnamed: 0'], inplace =True)"
   ]
  },
  {
   "cell_type": "code",
   "execution_count": 29,
   "metadata": {},
   "outputs": [
    {
     "data": {
      "text/html": [
       "<div>\n",
       "<style scoped>\n",
       "    .dataframe tbody tr th:only-of-type {\n",
       "        vertical-align: middle;\n",
       "    }\n",
       "\n",
       "    .dataframe tbody tr th {\n",
       "        vertical-align: top;\n",
       "    }\n",
       "\n",
       "    .dataframe thead th {\n",
       "        text-align: right;\n",
       "    }\n",
       "</style>\n",
       "<table border=\"1\" class=\"dataframe\">\n",
       "  <thead>\n",
       "    <tr style=\"text-align: right;\">\n",
       "      <th></th>\n",
       "      <th>isbn</th>\n",
       "      <th>title</th>\n",
       "      <th>author</th>\n",
       "      <th>pub_year</th>\n",
       "      <th>publisher</th>\n",
       "      <th>categories</th>\n",
       "      <th>description</th>\n",
       "    </tr>\n",
       "  </thead>\n",
       "  <tbody>\n",
       "    <tr>\n",
       "      <th>0</th>\n",
       "      <td>0002005018</td>\n",
       "      <td>Clara Callan</td>\n",
       "      <td>Richard Bruce Wright</td>\n",
       "      <td>2001.0</td>\n",
       "      <td>HarperFlamingo Canada</td>\n",
       "      <td>Actresses</td>\n",
       "      <td>In a small town in Canada, Clara Callan reluct...</td>\n",
       "    </tr>\n",
       "    <tr>\n",
       "      <th>1</th>\n",
       "      <td>0374157065</td>\n",
       "      <td>Flu: The Story of the Great Influenza Pandemic...</td>\n",
       "      <td>Gina Bari Kolata</td>\n",
       "      <td>1999.0</td>\n",
       "      <td>Farrar Straus Giroux</td>\n",
       "      <td>Medical</td>\n",
       "      <td>Describes the great flu epidemic of 1918, an o...</td>\n",
       "    </tr>\n",
       "    <tr>\n",
       "      <th>2</th>\n",
       "      <td>0399135782</td>\n",
       "      <td>The Kitchen God's Wife</td>\n",
       "      <td>Amy Tan</td>\n",
       "      <td>1991.0</td>\n",
       "      <td>Putnam Pub Group</td>\n",
       "      <td>Fiction</td>\n",
       "      <td>A Chinese immigrant who is convinced she is dy...</td>\n",
       "    </tr>\n",
       "    <tr>\n",
       "      <th>3</th>\n",
       "      <td>0440234743</td>\n",
       "      <td>The Testament</td>\n",
       "      <td>John Grisham</td>\n",
       "      <td>1999.0</td>\n",
       "      <td>Dell</td>\n",
       "      <td>Fiction</td>\n",
       "      <td>A suicidal billionaire, a burnt-out Washington...</td>\n",
       "    </tr>\n",
       "    <tr>\n",
       "      <th>4</th>\n",
       "      <td>0452264464</td>\n",
       "      <td>Beloved (Plume Contemporary Fiction)</td>\n",
       "      <td>Toni Morrison</td>\n",
       "      <td>1994.0</td>\n",
       "      <td>Plume</td>\n",
       "      <td>Fiction</td>\n",
       "      <td>Staring unflinchingly into the abyss of slaver...</td>\n",
       "    </tr>\n",
       "  </tbody>\n",
       "</table>\n",
       "</div>"
      ],
      "text/plain": [
       "         isbn                                              title  \\\n",
       "0  0002005018                                       Clara Callan   \n",
       "1  0374157065  Flu: The Story of the Great Influenza Pandemic...   \n",
       "2  0399135782                             The Kitchen God's Wife   \n",
       "3  0440234743                                      The Testament   \n",
       "4  0452264464               Beloved (Plume Contemporary Fiction)   \n",
       "\n",
       "                 author  pub_year              publisher categories  \\\n",
       "0  Richard Bruce Wright    2001.0  HarperFlamingo Canada  Actresses   \n",
       "1      Gina Bari Kolata    1999.0   Farrar Straus Giroux    Medical   \n",
       "2               Amy Tan    1991.0       Putnam Pub Group    Fiction   \n",
       "3          John Grisham    1999.0                   Dell    Fiction   \n",
       "4         Toni Morrison    1994.0                  Plume    Fiction   \n",
       "\n",
       "                                         description  \n",
       "0  In a small town in Canada, Clara Callan reluct...  \n",
       "1  Describes the great flu epidemic of 1918, an o...  \n",
       "2  A Chinese immigrant who is convinced she is dy...  \n",
       "3  A suicidal billionaire, a burnt-out Washington...  \n",
       "4  Staring unflinchingly into the abyss of slaver...  "
      ]
     },
     "execution_count": 29,
     "metadata": {},
     "output_type": "execute_result"
    }
   ],
   "source": [
    "books_wd.head()"
   ]
  },
  {
   "cell_type": "markdown",
   "metadata": {},
   "source": [
    "Using book `description` for TFIDF"
   ]
  },
  {
   "cell_type": "code",
   "execution_count": 30,
   "metadata": {},
   "outputs": [],
   "source": [
    "tfidf_des = vectorizer.fit_transform(books_wd['description'])"
   ]
  },
  {
   "cell_type": "markdown",
   "metadata": {},
   "source": [
    "### Cosine Similarity"
   ]
  },
  {
   "cell_type": "code",
   "execution_count": 31,
   "metadata": {},
   "outputs": [],
   "source": [
    "from sklearn.metrics.pairwise import linear_kernel\n",
    "\n",
    "# comping cosine similarity matrix using linear_kernal of sklearn\n",
    "cosine_sim_des = linear_kernel(tfidf_des, tfidf_des)"
   ]
  },
  {
   "cell_type": "code",
   "execution_count": 32,
   "metadata": {},
   "outputs": [],
   "source": [
    "indices_n = pd.Series(books_wd['isbn'])"
   ]
  },
  {
   "cell_type": "code",
   "execution_count": 33,
   "metadata": {},
   "outputs": [],
   "source": [
    "inddict = indices_n.to_dict()"
   ]
  },
  {
   "cell_type": "code",
   "execution_count": 34,
   "metadata": {},
   "outputs": [],
   "source": [
    "#changing the selection of books from index to isbn\n",
    "inddict = dict((v,k) for k,v in inddict.items())"
   ]
  },
  {
   "cell_type": "code",
   "execution_count": 48,
   "metadata": {},
   "outputs": [],
   "source": [
    "def recommend_cosine(isbn):\n",
    "    id = inddict[isbn]\n",
    "    # Get the pairwise similarity scores of all books compared that book,\n",
    "    # sorting them and getting top 5\n",
    "    similarity_scores = list(enumerate(cosine_sim_des[id]))\n",
    "    similarity_scores = sorted(similarity_scores, key=lambda x: x[1], reverse=True)\n",
    "    similarity_scores = similarity_scores[1:6]\n",
    "    \n",
    "    #Get the books index\n",
    "    books_index = [i[0] for i in similarity_scores]\n",
    "    \n",
    "    #Return the top 5 most similar books using integar-location based indexing (iloc)\n",
    "    return books_wd.iloc[books_index]"
   ]
  },
  {
   "cell_type": "code",
   "execution_count": 49,
   "metadata": {
    "scrolled": false
   },
   "outputs": [
    {
     "data": {
      "text/html": [
       "<div>\n",
       "<style scoped>\n",
       "    .dataframe tbody tr th:only-of-type {\n",
       "        vertical-align: middle;\n",
       "    }\n",
       "\n",
       "    .dataframe tbody tr th {\n",
       "        vertical-align: top;\n",
       "    }\n",
       "\n",
       "    .dataframe thead th {\n",
       "        text-align: right;\n",
       "    }\n",
       "</style>\n",
       "<table border=\"1\" class=\"dataframe\">\n",
       "  <thead>\n",
       "    <tr style=\"text-align: right;\">\n",
       "      <th></th>\n",
       "      <th>isbn</th>\n",
       "      <th>title</th>\n",
       "      <th>author</th>\n",
       "      <th>pub_year</th>\n",
       "      <th>publisher</th>\n",
       "      <th>categories</th>\n",
       "      <th>description</th>\n",
       "    </tr>\n",
       "  </thead>\n",
       "  <tbody>\n",
       "    <tr>\n",
       "      <th>600</th>\n",
       "      <td>0440224624</td>\n",
       "      <td>The Loop</td>\n",
       "      <td>Nicholas Evans</td>\n",
       "      <td>1999.0</td>\n",
       "      <td>Dell Publishing Company</td>\n",
       "      <td>Fiction</td>\n",
       "      <td>The author of the number-one best-seller, The ...</td>\n",
       "    </tr>\n",
       "    <tr>\n",
       "      <th>1192</th>\n",
       "      <td>0385512147</td>\n",
       "      <td>Bringing Elizabeth Home : A Journey of Faith a...</td>\n",
       "      <td>ED SMART</td>\n",
       "      <td>2003.0</td>\n",
       "      <td>Doubleday</td>\n",
       "      <td>Religion</td>\n",
       "      <td>The parents of kidnapping victim Elizabeth Sma...</td>\n",
       "    </tr>\n",
       "    <tr>\n",
       "      <th>570</th>\n",
       "      <td>0345387007</td>\n",
       "      <td>Tangle Box</td>\n",
       "      <td>TERRY BROOKS</td>\n",
       "      <td>1995.0</td>\n",
       "      <td>Del Rey</td>\n",
       "      <td>Fiction</td>\n",
       "      <td>Relates a tale about the magical kingdom of La...</td>\n",
       "    </tr>\n",
       "    <tr>\n",
       "      <th>525</th>\n",
       "      <td>1573225789</td>\n",
       "      <td>The Color of Water: A Black Man's Tribute to H...</td>\n",
       "      <td>James McBride</td>\n",
       "      <td>1997.0</td>\n",
       "      <td>Riverhead Books</td>\n",
       "      <td>Biography &amp;amp; Autobiography</td>\n",
       "      <td>An African American man describes life as the ...</td>\n",
       "    </tr>\n",
       "    <tr>\n",
       "      <th>66</th>\n",
       "      <td>044651747X</td>\n",
       "      <td>Puerto Vallarta Squeeze</td>\n",
       "      <td>Robert James Waller</td>\n",
       "      <td>1995.0</td>\n",
       "      <td>Warner Books</td>\n",
       "      <td>Fiction</td>\n",
       "      <td>The author of the blockbuster The Bridges of M...</td>\n",
       "    </tr>\n",
       "  </tbody>\n",
       "</table>\n",
       "</div>"
      ],
      "text/plain": [
       "            isbn                                              title  \\\n",
       "600   0440224624                                           The Loop   \n",
       "1192  0385512147  Bringing Elizabeth Home : A Journey of Faith a...   \n",
       "570   0345387007                                         Tangle Box   \n",
       "525   1573225789  The Color of Water: A Black Man's Tribute to H...   \n",
       "66    044651747X                            Puerto Vallarta Squeeze   \n",
       "\n",
       "                   author  pub_year                publisher  \\\n",
       "600        Nicholas Evans    1999.0  Dell Publishing Company   \n",
       "1192             ED SMART    2003.0                Doubleday   \n",
       "570          TERRY BROOKS    1995.0                  Del Rey   \n",
       "525         James McBride    1997.0          Riverhead Books   \n",
       "66    Robert James Waller    1995.0             Warner Books   \n",
       "\n",
       "                         categories  \\\n",
       "600                         Fiction   \n",
       "1192                       Religion   \n",
       "570                         Fiction   \n",
       "525   Biography &amp; Autobiography   \n",
       "66                          Fiction   \n",
       "\n",
       "                                            description  \n",
       "600   The author of the number-one best-seller, The ...  \n",
       "1192  The parents of kidnapping victim Elizabeth Sma...  \n",
       "570   Relates a tale about the magical kingdom of La...  \n",
       "525   An African American man describes life as the ...  \n",
       "66    The author of the blockbuster The Bridges of M...  "
      ]
     },
     "execution_count": 49,
     "metadata": {},
     "output_type": "execute_result"
    }
   ],
   "source": [
    "recommend_cosine(\"067100669X\")"
   ]
  },
  {
   "cell_type": "markdown",
   "metadata": {},
   "source": [
    "---"
   ]
  },
  {
   "cell_type": "markdown",
   "metadata": {},
   "source": [
    "### Euclidean Distance"
   ]
  },
  {
   "cell_type": "markdown",
   "metadata": {},
   "source": [
    "```\n",
    "from sklearn.feature_extraction.text import TfidfVectorizer\n",
    "from sklearn.metrics.pairwise import euclidean_distances\n",
    "\n",
    "v = TfidfVectorizer()\n",
    "X = v.fit_transform(your_documents)\n",
    "D = euclidean_distances(X)\n",
    "```"
   ]
  },
  {
   "cell_type": "markdown",
   "metadata": {},
   "source": [
    "Now `D[i, j]` is the Euclidean distance between document vectors `X[i]` and `X[j]`."
   ]
  },
  {
   "cell_type": "code",
   "execution_count": 38,
   "metadata": {},
   "outputs": [],
   "source": [
    "from sklearn.metrics.pairwise import euclidean_distances"
   ]
  },
  {
   "cell_type": "code",
   "execution_count": 39,
   "metadata": {},
   "outputs": [],
   "source": [
    "D = euclidean_distances(tfidf_des)"
   ]
  },
  {
   "cell_type": "code",
   "execution_count": 40,
   "metadata": {},
   "outputs": [],
   "source": [
    "def recommend_euclidean_distance(isbn):\n",
    "    ind = inddict[isbn]\n",
    "    distance = list(enumerate(D[ind]))\n",
    "    distance = sorted(distance, key=lambda x: x[1])\n",
    "    distance = distance[1:6]\n",
    "    #Get the books index\n",
    "    books_index = [i[0] for i in distance]\n",
    "\n",
    "    #Return the top 5 most similar books using integar-location based indexing (iloc)\n",
    "    return books_wd.iloc[books_index]"
   ]
  },
  {
   "cell_type": "code",
   "execution_count": 41,
   "metadata": {},
   "outputs": [
    {
     "data": {
      "text/html": [
       "<div>\n",
       "<style scoped>\n",
       "    .dataframe tbody tr th:only-of-type {\n",
       "        vertical-align: middle;\n",
       "    }\n",
       "\n",
       "    .dataframe tbody tr th {\n",
       "        vertical-align: top;\n",
       "    }\n",
       "\n",
       "    .dataframe thead th {\n",
       "        text-align: right;\n",
       "    }\n",
       "</style>\n",
       "<table border=\"1\" class=\"dataframe\">\n",
       "  <thead>\n",
       "    <tr style=\"text-align: right;\">\n",
       "      <th></th>\n",
       "      <th>isbn</th>\n",
       "      <th>title</th>\n",
       "      <th>author</th>\n",
       "      <th>pub_year</th>\n",
       "      <th>publisher</th>\n",
       "      <th>categories</th>\n",
       "      <th>description</th>\n",
       "    </tr>\n",
       "  </thead>\n",
       "  <tbody>\n",
       "    <tr>\n",
       "      <th>600</th>\n",
       "      <td>0440224624</td>\n",
       "      <td>The Loop</td>\n",
       "      <td>Nicholas Evans</td>\n",
       "      <td>1999.0</td>\n",
       "      <td>Dell Publishing Company</td>\n",
       "      <td>Fiction</td>\n",
       "      <td>The author of the number-one best-seller, The ...</td>\n",
       "    </tr>\n",
       "    <tr>\n",
       "      <th>1192</th>\n",
       "      <td>0385512147</td>\n",
       "      <td>Bringing Elizabeth Home : A Journey of Faith a...</td>\n",
       "      <td>ED SMART</td>\n",
       "      <td>2003.0</td>\n",
       "      <td>Doubleday</td>\n",
       "      <td>Religion</td>\n",
       "      <td>The parents of kidnapping victim Elizabeth Sma...</td>\n",
       "    </tr>\n",
       "    <tr>\n",
       "      <th>570</th>\n",
       "      <td>0345387007</td>\n",
       "      <td>Tangle Box</td>\n",
       "      <td>TERRY BROOKS</td>\n",
       "      <td>1995.0</td>\n",
       "      <td>Del Rey</td>\n",
       "      <td>Fiction</td>\n",
       "      <td>Relates a tale about the magical kingdom of La...</td>\n",
       "    </tr>\n",
       "    <tr>\n",
       "      <th>525</th>\n",
       "      <td>1573225789</td>\n",
       "      <td>The Color of Water: A Black Man's Tribute to H...</td>\n",
       "      <td>James McBride</td>\n",
       "      <td>1997.0</td>\n",
       "      <td>Riverhead Books</td>\n",
       "      <td>Biography &amp;amp; Autobiography</td>\n",
       "      <td>An African American man describes life as the ...</td>\n",
       "    </tr>\n",
       "    <tr>\n",
       "      <th>66</th>\n",
       "      <td>044651747X</td>\n",
       "      <td>Puerto Vallarta Squeeze</td>\n",
       "      <td>Robert James Waller</td>\n",
       "      <td>1995.0</td>\n",
       "      <td>Warner Books</td>\n",
       "      <td>Fiction</td>\n",
       "      <td>The author of the blockbuster The Bridges of M...</td>\n",
       "    </tr>\n",
       "  </tbody>\n",
       "</table>\n",
       "</div>"
      ],
      "text/plain": [
       "            isbn                                              title  \\\n",
       "600   0440224624                                           The Loop   \n",
       "1192  0385512147  Bringing Elizabeth Home : A Journey of Faith a...   \n",
       "570   0345387007                                         Tangle Box   \n",
       "525   1573225789  The Color of Water: A Black Man's Tribute to H...   \n",
       "66    044651747X                            Puerto Vallarta Squeeze   \n",
       "\n",
       "                   author  pub_year                publisher  \\\n",
       "600        Nicholas Evans    1999.0  Dell Publishing Company   \n",
       "1192             ED SMART    2003.0                Doubleday   \n",
       "570          TERRY BROOKS    1995.0                  Del Rey   \n",
       "525         James McBride    1997.0          Riverhead Books   \n",
       "66    Robert James Waller    1995.0             Warner Books   \n",
       "\n",
       "                         categories  \\\n",
       "600                         Fiction   \n",
       "1192                       Religion   \n",
       "570                         Fiction   \n",
       "525   Biography &amp; Autobiography   \n",
       "66                          Fiction   \n",
       "\n",
       "                                            description  \n",
       "600   The author of the number-one best-seller, The ...  \n",
       "1192  The parents of kidnapping victim Elizabeth Sma...  \n",
       "570   Relates a tale about the magical kingdom of La...  \n",
       "525   An African American man describes life as the ...  \n",
       "66    The author of the blockbuster The Bridges of M...  "
      ]
     },
     "execution_count": 41,
     "metadata": {},
     "output_type": "execute_result"
    }
   ],
   "source": [
    "recommend_euclidean_distance(\"067100669X\")"
   ]
  },
  {
   "cell_type": "markdown",
   "metadata": {},
   "source": [
    "---"
   ]
  },
  {
   "cell_type": "markdown",
   "metadata": {},
   "source": [
    "### Pearson's Correlation"
   ]
  },
  {
   "cell_type": "code",
   "execution_count": 42,
   "metadata": {},
   "outputs": [],
   "source": [
    "from scipy.stats import pearsonr\n",
    "tfidf_des_array = tfidf_des.toarray()"
   ]
  },
  {
   "cell_type": "code",
   "execution_count": 43,
   "metadata": {},
   "outputs": [],
   "source": [
    "def recommend_pearson(isbn):\n",
    "    ind = inddict[isbn]\n",
    "    correlation = []\n",
    "    for i in range(len(tfidf_des_array)):\n",
    "        correlation.append(pearsonr(tfidf_des_array[ind], tfidf_des_array[i])[0])\n",
    "    correlation = list(enumerate(correlation))\n",
    "    sorted_corr = sorted(correlation, reverse=True, key=lambda x: x[1])[1:6]\n",
    "    books_index = [i[0] for i in sorted_corr]\n",
    "    return books_wd.iloc[books_index]"
   ]
  },
  {
   "cell_type": "code",
   "execution_count": 46,
   "metadata": {
    "scrolled": true
   },
   "outputs": [
    {
     "data": {
      "text/html": [
       "<div>\n",
       "<style scoped>\n",
       "    .dataframe tbody tr th:only-of-type {\n",
       "        vertical-align: middle;\n",
       "    }\n",
       "\n",
       "    .dataframe tbody tr th {\n",
       "        vertical-align: top;\n",
       "    }\n",
       "\n",
       "    .dataframe thead th {\n",
       "        text-align: right;\n",
       "    }\n",
       "</style>\n",
       "<table border=\"1\" class=\"dataframe\">\n",
       "  <thead>\n",
       "    <tr style=\"text-align: right;\">\n",
       "      <th></th>\n",
       "      <th>isbn</th>\n",
       "      <th>title</th>\n",
       "      <th>author</th>\n",
       "      <th>pub_year</th>\n",
       "      <th>publisher</th>\n",
       "      <th>categories</th>\n",
       "      <th>description</th>\n",
       "    </tr>\n",
       "  </thead>\n",
       "  <tbody>\n",
       "    <tr>\n",
       "      <th>600</th>\n",
       "      <td>0440224624</td>\n",
       "      <td>The Loop</td>\n",
       "      <td>Nicholas Evans</td>\n",
       "      <td>1999.0</td>\n",
       "      <td>Dell Publishing Company</td>\n",
       "      <td>Fiction</td>\n",
       "      <td>The author of the number-one best-seller, The ...</td>\n",
       "    </tr>\n",
       "    <tr>\n",
       "      <th>1192</th>\n",
       "      <td>0385512147</td>\n",
       "      <td>Bringing Elizabeth Home : A Journey of Faith a...</td>\n",
       "      <td>ED SMART</td>\n",
       "      <td>2003.0</td>\n",
       "      <td>Doubleday</td>\n",
       "      <td>Religion</td>\n",
       "      <td>The parents of kidnapping victim Elizabeth Sma...</td>\n",
       "    </tr>\n",
       "    <tr>\n",
       "      <th>570</th>\n",
       "      <td>0345387007</td>\n",
       "      <td>Tangle Box</td>\n",
       "      <td>TERRY BROOKS</td>\n",
       "      <td>1995.0</td>\n",
       "      <td>Del Rey</td>\n",
       "      <td>Fiction</td>\n",
       "      <td>Relates a tale about the magical kingdom of La...</td>\n",
       "    </tr>\n",
       "    <tr>\n",
       "      <th>525</th>\n",
       "      <td>1573225789</td>\n",
       "      <td>The Color of Water: A Black Man's Tribute to H...</td>\n",
       "      <td>James McBride</td>\n",
       "      <td>1997.0</td>\n",
       "      <td>Riverhead Books</td>\n",
       "      <td>Biography &amp;amp; Autobiography</td>\n",
       "      <td>An African American man describes life as the ...</td>\n",
       "    </tr>\n",
       "    <tr>\n",
       "      <th>66</th>\n",
       "      <td>044651747X</td>\n",
       "      <td>Puerto Vallarta Squeeze</td>\n",
       "      <td>Robert James Waller</td>\n",
       "      <td>1995.0</td>\n",
       "      <td>Warner Books</td>\n",
       "      <td>Fiction</td>\n",
       "      <td>The author of the blockbuster The Bridges of M...</td>\n",
       "    </tr>\n",
       "  </tbody>\n",
       "</table>\n",
       "</div>"
      ],
      "text/plain": [
       "            isbn                                              title  \\\n",
       "600   0440224624                                           The Loop   \n",
       "1192  0385512147  Bringing Elizabeth Home : A Journey of Faith a...   \n",
       "570   0345387007                                         Tangle Box   \n",
       "525   1573225789  The Color of Water: A Black Man's Tribute to H...   \n",
       "66    044651747X                            Puerto Vallarta Squeeze   \n",
       "\n",
       "                   author  pub_year                publisher  \\\n",
       "600        Nicholas Evans    1999.0  Dell Publishing Company   \n",
       "1192             ED SMART    2003.0                Doubleday   \n",
       "570          TERRY BROOKS    1995.0                  Del Rey   \n",
       "525         James McBride    1997.0          Riverhead Books   \n",
       "66    Robert James Waller    1995.0             Warner Books   \n",
       "\n",
       "                         categories  \\\n",
       "600                         Fiction   \n",
       "1192                       Religion   \n",
       "570                         Fiction   \n",
       "525   Biography &amp; Autobiography   \n",
       "66                          Fiction   \n",
       "\n",
       "                                            description  \n",
       "600   The author of the number-one best-seller, The ...  \n",
       "1192  The parents of kidnapping victim Elizabeth Sma...  \n",
       "570   Relates a tale about the magical kingdom of La...  \n",
       "525   An African American man describes life as the ...  \n",
       "66    The author of the blockbuster The Bridges of M...  "
      ]
     },
     "execution_count": 46,
     "metadata": {},
     "output_type": "execute_result"
    }
   ],
   "source": [
    "recommend_pearson('067100669X')"
   ]
  },
  {
   "cell_type": "markdown",
   "metadata": {},
   "source": [
    "---"
   ]
  },
  {
   "cell_type": "markdown",
   "metadata": {},
   "source": [
    "### Comparison of 3 recommenders"
   ]
  },
  {
   "cell_type": "code",
   "execution_count": 47,
   "metadata": {},
   "outputs": [
    {
     "data": {
      "text/html": [
       "<div>\n",
       "<style scoped>\n",
       "    .dataframe tbody tr th:only-of-type {\n",
       "        vertical-align: middle;\n",
       "    }\n",
       "\n",
       "    .dataframe tbody tr th {\n",
       "        vertical-align: top;\n",
       "    }\n",
       "\n",
       "    .dataframe thead th {\n",
       "        text-align: right;\n",
       "    }\n",
       "</style>\n",
       "<table border=\"1\" class=\"dataframe\">\n",
       "  <thead>\n",
       "    <tr style=\"text-align: right;\">\n",
       "      <th></th>\n",
       "      <th>isbn</th>\n",
       "      <th>title</th>\n",
       "      <th>author</th>\n",
       "      <th>pub_year</th>\n",
       "      <th>publisher</th>\n",
       "      <th>categories</th>\n",
       "      <th>description</th>\n",
       "    </tr>\n",
       "  </thead>\n",
       "  <tbody>\n",
       "    <tr>\n",
       "      <th>1163</th>\n",
       "      <td>067100669X</td>\n",
       "      <td>Tears of Rage</td>\n",
       "      <td>John Walsh</td>\n",
       "      <td>1998.0</td>\n",
       "      <td>Pocket</td>\n",
       "      <td>True Crime</td>\n",
       "      <td>The author relates the story of his son's abdu...</td>\n",
       "    </tr>\n",
       "  </tbody>\n",
       "</table>\n",
       "</div>"
      ],
      "text/plain": [
       "            isbn          title      author  pub_year publisher  categories  \\\n",
       "1163  067100669X  Tears of Rage  John Walsh    1998.0    Pocket  True Crime   \n",
       "\n",
       "                                            description  \n",
       "1163  The author relates the story of his son's abdu...  "
      ]
     },
     "execution_count": 47,
     "metadata": {},
     "output_type": "execute_result"
    }
   ],
   "source": [
    "#Target book\n",
    "books_wd.loc[books_wd['isbn'] == \"067100669X\"]"
   ]
  },
  {
   "cell_type": "code",
   "execution_count": 50,
   "metadata": {},
   "outputs": [
    {
     "data": {
      "text/html": [
       "<div>\n",
       "<style scoped>\n",
       "    .dataframe tbody tr th:only-of-type {\n",
       "        vertical-align: middle;\n",
       "    }\n",
       "\n",
       "    .dataframe tbody tr th {\n",
       "        vertical-align: top;\n",
       "    }\n",
       "\n",
       "    .dataframe thead th {\n",
       "        text-align: right;\n",
       "    }\n",
       "</style>\n",
       "<table border=\"1\" class=\"dataframe\">\n",
       "  <thead>\n",
       "    <tr style=\"text-align: right;\">\n",
       "      <th></th>\n",
       "      <th>isbn</th>\n",
       "      <th>title</th>\n",
       "      <th>author</th>\n",
       "      <th>pub_year</th>\n",
       "      <th>publisher</th>\n",
       "      <th>categories</th>\n",
       "      <th>description</th>\n",
       "    </tr>\n",
       "  </thead>\n",
       "  <tbody>\n",
       "    <tr>\n",
       "      <th>600</th>\n",
       "      <td>0440224624</td>\n",
       "      <td>The Loop</td>\n",
       "      <td>Nicholas Evans</td>\n",
       "      <td>1999.0</td>\n",
       "      <td>Dell Publishing Company</td>\n",
       "      <td>Fiction</td>\n",
       "      <td>The author of the number-one best-seller, The ...</td>\n",
       "    </tr>\n",
       "    <tr>\n",
       "      <th>1192</th>\n",
       "      <td>0385512147</td>\n",
       "      <td>Bringing Elizabeth Home : A Journey of Faith a...</td>\n",
       "      <td>ED SMART</td>\n",
       "      <td>2003.0</td>\n",
       "      <td>Doubleday</td>\n",
       "      <td>Religion</td>\n",
       "      <td>The parents of kidnapping victim Elizabeth Sma...</td>\n",
       "    </tr>\n",
       "    <tr>\n",
       "      <th>570</th>\n",
       "      <td>0345387007</td>\n",
       "      <td>Tangle Box</td>\n",
       "      <td>TERRY BROOKS</td>\n",
       "      <td>1995.0</td>\n",
       "      <td>Del Rey</td>\n",
       "      <td>Fiction</td>\n",
       "      <td>Relates a tale about the magical kingdom of La...</td>\n",
       "    </tr>\n",
       "    <tr>\n",
       "      <th>525</th>\n",
       "      <td>1573225789</td>\n",
       "      <td>The Color of Water: A Black Man's Tribute to H...</td>\n",
       "      <td>James McBride</td>\n",
       "      <td>1997.0</td>\n",
       "      <td>Riverhead Books</td>\n",
       "      <td>Biography &amp;amp; Autobiography</td>\n",
       "      <td>An African American man describes life as the ...</td>\n",
       "    </tr>\n",
       "    <tr>\n",
       "      <th>66</th>\n",
       "      <td>044651747X</td>\n",
       "      <td>Puerto Vallarta Squeeze</td>\n",
       "      <td>Robert James Waller</td>\n",
       "      <td>1995.0</td>\n",
       "      <td>Warner Books</td>\n",
       "      <td>Fiction</td>\n",
       "      <td>The author of the blockbuster The Bridges of M...</td>\n",
       "    </tr>\n",
       "  </tbody>\n",
       "</table>\n",
       "</div>"
      ],
      "text/plain": [
       "            isbn                                              title  \\\n",
       "600   0440224624                                           The Loop   \n",
       "1192  0385512147  Bringing Elizabeth Home : A Journey of Faith a...   \n",
       "570   0345387007                                         Tangle Box   \n",
       "525   1573225789  The Color of Water: A Black Man's Tribute to H...   \n",
       "66    044651747X                            Puerto Vallarta Squeeze   \n",
       "\n",
       "                   author  pub_year                publisher  \\\n",
       "600        Nicholas Evans    1999.0  Dell Publishing Company   \n",
       "1192             ED SMART    2003.0                Doubleday   \n",
       "570          TERRY BROOKS    1995.0                  Del Rey   \n",
       "525         James McBride    1997.0          Riverhead Books   \n",
       "66    Robert James Waller    1995.0             Warner Books   \n",
       "\n",
       "                         categories  \\\n",
       "600                         Fiction   \n",
       "1192                       Religion   \n",
       "570                         Fiction   \n",
       "525   Biography &amp; Autobiography   \n",
       "66                          Fiction   \n",
       "\n",
       "                                            description  \n",
       "600   The author of the number-one best-seller, The ...  \n",
       "1192  The parents of kidnapping victim Elizabeth Sma...  \n",
       "570   Relates a tale about the magical kingdom of La...  \n",
       "525   An African American man describes life as the ...  \n",
       "66    The author of the blockbuster The Bridges of M...  "
      ]
     },
     "execution_count": 50,
     "metadata": {},
     "output_type": "execute_result"
    }
   ],
   "source": [
    "recommend_cosine(\"067100669X\")"
   ]
  },
  {
   "cell_type": "code",
   "execution_count": 51,
   "metadata": {},
   "outputs": [
    {
     "data": {
      "text/html": [
       "<div>\n",
       "<style scoped>\n",
       "    .dataframe tbody tr th:only-of-type {\n",
       "        vertical-align: middle;\n",
       "    }\n",
       "\n",
       "    .dataframe tbody tr th {\n",
       "        vertical-align: top;\n",
       "    }\n",
       "\n",
       "    .dataframe thead th {\n",
       "        text-align: right;\n",
       "    }\n",
       "</style>\n",
       "<table border=\"1\" class=\"dataframe\">\n",
       "  <thead>\n",
       "    <tr style=\"text-align: right;\">\n",
       "      <th></th>\n",
       "      <th>isbn</th>\n",
       "      <th>title</th>\n",
       "      <th>author</th>\n",
       "      <th>pub_year</th>\n",
       "      <th>publisher</th>\n",
       "      <th>categories</th>\n",
       "      <th>description</th>\n",
       "    </tr>\n",
       "  </thead>\n",
       "  <tbody>\n",
       "    <tr>\n",
       "      <th>600</th>\n",
       "      <td>0440224624</td>\n",
       "      <td>The Loop</td>\n",
       "      <td>Nicholas Evans</td>\n",
       "      <td>1999.0</td>\n",
       "      <td>Dell Publishing Company</td>\n",
       "      <td>Fiction</td>\n",
       "      <td>The author of the number-one best-seller, The ...</td>\n",
       "    </tr>\n",
       "    <tr>\n",
       "      <th>1192</th>\n",
       "      <td>0385512147</td>\n",
       "      <td>Bringing Elizabeth Home : A Journey of Faith a...</td>\n",
       "      <td>ED SMART</td>\n",
       "      <td>2003.0</td>\n",
       "      <td>Doubleday</td>\n",
       "      <td>Religion</td>\n",
       "      <td>The parents of kidnapping victim Elizabeth Sma...</td>\n",
       "    </tr>\n",
       "    <tr>\n",
       "      <th>570</th>\n",
       "      <td>0345387007</td>\n",
       "      <td>Tangle Box</td>\n",
       "      <td>TERRY BROOKS</td>\n",
       "      <td>1995.0</td>\n",
       "      <td>Del Rey</td>\n",
       "      <td>Fiction</td>\n",
       "      <td>Relates a tale about the magical kingdom of La...</td>\n",
       "    </tr>\n",
       "    <tr>\n",
       "      <th>525</th>\n",
       "      <td>1573225789</td>\n",
       "      <td>The Color of Water: A Black Man's Tribute to H...</td>\n",
       "      <td>James McBride</td>\n",
       "      <td>1997.0</td>\n",
       "      <td>Riverhead Books</td>\n",
       "      <td>Biography &amp;amp; Autobiography</td>\n",
       "      <td>An African American man describes life as the ...</td>\n",
       "    </tr>\n",
       "    <tr>\n",
       "      <th>66</th>\n",
       "      <td>044651747X</td>\n",
       "      <td>Puerto Vallarta Squeeze</td>\n",
       "      <td>Robert James Waller</td>\n",
       "      <td>1995.0</td>\n",
       "      <td>Warner Books</td>\n",
       "      <td>Fiction</td>\n",
       "      <td>The author of the blockbuster The Bridges of M...</td>\n",
       "    </tr>\n",
       "  </tbody>\n",
       "</table>\n",
       "</div>"
      ],
      "text/plain": [
       "            isbn                                              title  \\\n",
       "600   0440224624                                           The Loop   \n",
       "1192  0385512147  Bringing Elizabeth Home : A Journey of Faith a...   \n",
       "570   0345387007                                         Tangle Box   \n",
       "525   1573225789  The Color of Water: A Black Man's Tribute to H...   \n",
       "66    044651747X                            Puerto Vallarta Squeeze   \n",
       "\n",
       "                   author  pub_year                publisher  \\\n",
       "600        Nicholas Evans    1999.0  Dell Publishing Company   \n",
       "1192             ED SMART    2003.0                Doubleday   \n",
       "570          TERRY BROOKS    1995.0                  Del Rey   \n",
       "525         James McBride    1997.0          Riverhead Books   \n",
       "66    Robert James Waller    1995.0             Warner Books   \n",
       "\n",
       "                         categories  \\\n",
       "600                         Fiction   \n",
       "1192                       Religion   \n",
       "570                         Fiction   \n",
       "525   Biography &amp; Autobiography   \n",
       "66                          Fiction   \n",
       "\n",
       "                                            description  \n",
       "600   The author of the number-one best-seller, The ...  \n",
       "1192  The parents of kidnapping victim Elizabeth Sma...  \n",
       "570   Relates a tale about the magical kingdom of La...  \n",
       "525   An African American man describes life as the ...  \n",
       "66    The author of the blockbuster The Bridges of M...  "
      ]
     },
     "execution_count": 51,
     "metadata": {},
     "output_type": "execute_result"
    }
   ],
   "source": [
    "recommend_euclidean_distance(\"067100669X\")"
   ]
  },
  {
   "cell_type": "code",
   "execution_count": 52,
   "metadata": {},
   "outputs": [
    {
     "data": {
      "text/html": [
       "<div>\n",
       "<style scoped>\n",
       "    .dataframe tbody tr th:only-of-type {\n",
       "        vertical-align: middle;\n",
       "    }\n",
       "\n",
       "    .dataframe tbody tr th {\n",
       "        vertical-align: top;\n",
       "    }\n",
       "\n",
       "    .dataframe thead th {\n",
       "        text-align: right;\n",
       "    }\n",
       "</style>\n",
       "<table border=\"1\" class=\"dataframe\">\n",
       "  <thead>\n",
       "    <tr style=\"text-align: right;\">\n",
       "      <th></th>\n",
       "      <th>isbn</th>\n",
       "      <th>title</th>\n",
       "      <th>author</th>\n",
       "      <th>pub_year</th>\n",
       "      <th>publisher</th>\n",
       "      <th>categories</th>\n",
       "      <th>description</th>\n",
       "    </tr>\n",
       "  </thead>\n",
       "  <tbody>\n",
       "    <tr>\n",
       "      <th>600</th>\n",
       "      <td>0440224624</td>\n",
       "      <td>The Loop</td>\n",
       "      <td>Nicholas Evans</td>\n",
       "      <td>1999.0</td>\n",
       "      <td>Dell Publishing Company</td>\n",
       "      <td>Fiction</td>\n",
       "      <td>The author of the number-one best-seller, The ...</td>\n",
       "    </tr>\n",
       "    <tr>\n",
       "      <th>1192</th>\n",
       "      <td>0385512147</td>\n",
       "      <td>Bringing Elizabeth Home : A Journey of Faith a...</td>\n",
       "      <td>ED SMART</td>\n",
       "      <td>2003.0</td>\n",
       "      <td>Doubleday</td>\n",
       "      <td>Religion</td>\n",
       "      <td>The parents of kidnapping victim Elizabeth Sma...</td>\n",
       "    </tr>\n",
       "    <tr>\n",
       "      <th>570</th>\n",
       "      <td>0345387007</td>\n",
       "      <td>Tangle Box</td>\n",
       "      <td>TERRY BROOKS</td>\n",
       "      <td>1995.0</td>\n",
       "      <td>Del Rey</td>\n",
       "      <td>Fiction</td>\n",
       "      <td>Relates a tale about the magical kingdom of La...</td>\n",
       "    </tr>\n",
       "    <tr>\n",
       "      <th>525</th>\n",
       "      <td>1573225789</td>\n",
       "      <td>The Color of Water: A Black Man's Tribute to H...</td>\n",
       "      <td>James McBride</td>\n",
       "      <td>1997.0</td>\n",
       "      <td>Riverhead Books</td>\n",
       "      <td>Biography &amp;amp; Autobiography</td>\n",
       "      <td>An African American man describes life as the ...</td>\n",
       "    </tr>\n",
       "    <tr>\n",
       "      <th>66</th>\n",
       "      <td>044651747X</td>\n",
       "      <td>Puerto Vallarta Squeeze</td>\n",
       "      <td>Robert James Waller</td>\n",
       "      <td>1995.0</td>\n",
       "      <td>Warner Books</td>\n",
       "      <td>Fiction</td>\n",
       "      <td>The author of the blockbuster The Bridges of M...</td>\n",
       "    </tr>\n",
       "  </tbody>\n",
       "</table>\n",
       "</div>"
      ],
      "text/plain": [
       "            isbn                                              title  \\\n",
       "600   0440224624                                           The Loop   \n",
       "1192  0385512147  Bringing Elizabeth Home : A Journey of Faith a...   \n",
       "570   0345387007                                         Tangle Box   \n",
       "525   1573225789  The Color of Water: A Black Man's Tribute to H...   \n",
       "66    044651747X                            Puerto Vallarta Squeeze   \n",
       "\n",
       "                   author  pub_year                publisher  \\\n",
       "600        Nicholas Evans    1999.0  Dell Publishing Company   \n",
       "1192             ED SMART    2003.0                Doubleday   \n",
       "570          TERRY BROOKS    1995.0                  Del Rey   \n",
       "525         James McBride    1997.0          Riverhead Books   \n",
       "66    Robert James Waller    1995.0             Warner Books   \n",
       "\n",
       "                         categories  \\\n",
       "600                         Fiction   \n",
       "1192                       Religion   \n",
       "570                         Fiction   \n",
       "525   Biography &amp; Autobiography   \n",
       "66                          Fiction   \n",
       "\n",
       "                                            description  \n",
       "600   The author of the number-one best-seller, The ...  \n",
       "1192  The parents of kidnapping victim Elizabeth Sma...  \n",
       "570   Relates a tale about the magical kingdom of La...  \n",
       "525   An African American man describes life as the ...  \n",
       "66    The author of the blockbuster The Bridges of M...  "
      ]
     },
     "execution_count": 52,
     "metadata": {},
     "output_type": "execute_result"
    }
   ],
   "source": [
    "recommend_pearson('067100669X')"
   ]
  },
  {
   "cell_type": "markdown",
   "metadata": {},
   "source": [
    "### Pros:\n",
    "\n",
    "* Unlike Collaborative Filtering, if the items have sufficient descriptions, we avoid the “new item problem”.\n",
    "* Content representations are varied and they open up the options to use different approaches like: text processing techniques, the use of semantic information, inferences, etc…\n",
    "* It is easy to make a more transparent system: we use the same content to explain the recommendations.\n",
    "\n",
    "\n",
    "### Cons:\n",
    "* Content-Based RecSys tend to over-specialization: they will recommend items similar to those already consumed, with a tendecy of creating a “filter bubble”."
   ]
  }
 ],
 "metadata": {
  "kernelspec": {
   "display_name": "Python 3",
   "language": "python",
   "name": "python3"
  },
  "language_info": {
   "codemirror_mode": {
    "name": "ipython",
    "version": 3
   },
   "file_extension": ".py",
   "mimetype": "text/x-python",
   "name": "python",
   "nbconvert_exporter": "python",
   "pygments_lexer": "ipython3",
   "version": "3.6.6"
  }
 },
 "nbformat": 4,
 "nbformat_minor": 2
}

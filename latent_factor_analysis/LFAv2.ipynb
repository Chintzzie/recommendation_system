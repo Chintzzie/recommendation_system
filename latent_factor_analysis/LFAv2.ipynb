{
 "cells": [
  {
   "cell_type": "code",
   "execution_count": 1,
   "metadata": {},
   "outputs": [],
   "source": [
    "import numpy as np\n",
    "import pandas as pd\n",
    "import seaborn as sns\n",
    "import time\n",
    "\n",
    "\n",
    "from numpy.linalg import norm \n",
    "from sklearn.metrics import mean_squared_error\n",
    "from scipy.sparse import coo_matrix\n"
   ]
  },
  {
   "cell_type": "markdown",
   "metadata": {},
   "source": [
    "1.  load data\n",
    "-   sgd\n",
    "-  threshold\n",
    "-  drop 0\n",
    "- error function\n",
    "- SGD function\n",
    "- solver for matrix "
   ]
  },
  {
   "cell_type": "markdown",
   "metadata": {},
   "source": [
    "# Loading data"
   ]
  },
  {
   "cell_type": "code",
   "execution_count": 2,
   "metadata": {},
   "outputs": [
    {
     "data": {
      "text/html": [
       "<div>\n",
       "<style scoped>\n",
       "    .dataframe tbody tr th:only-of-type {\n",
       "        vertical-align: middle;\n",
       "    }\n",
       "\n",
       "    .dataframe tbody tr th {\n",
       "        vertical-align: top;\n",
       "    }\n",
       "\n",
       "    .dataframe thead th {\n",
       "        text-align: right;\n",
       "    }\n",
       "</style>\n",
       "<table border=\"1\" class=\"dataframe\">\n",
       "  <thead>\n",
       "    <tr style=\"text-align: right;\">\n",
       "      <th></th>\n",
       "      <th>user</th>\n",
       "      <th>isbn</th>\n",
       "      <th>rating</th>\n",
       "    </tr>\n",
       "  </thead>\n",
       "  <tbody>\n",
       "    <tr>\n",
       "      <th>0</th>\n",
       "      <td>276725</td>\n",
       "      <td>034545104X</td>\n",
       "      <td>0</td>\n",
       "    </tr>\n",
       "    <tr>\n",
       "      <th>1</th>\n",
       "      <td>276726</td>\n",
       "      <td>0155061224</td>\n",
       "      <td>5</td>\n",
       "    </tr>\n",
       "    <tr>\n",
       "      <th>2</th>\n",
       "      <td>276727</td>\n",
       "      <td>0446520802</td>\n",
       "      <td>0</td>\n",
       "    </tr>\n",
       "    <tr>\n",
       "      <th>3</th>\n",
       "      <td>276729</td>\n",
       "      <td>052165615X</td>\n",
       "      <td>3</td>\n",
       "    </tr>\n",
       "    <tr>\n",
       "      <th>4</th>\n",
       "      <td>276729</td>\n",
       "      <td>0521795028</td>\n",
       "      <td>6</td>\n",
       "    </tr>\n",
       "  </tbody>\n",
       "</table>\n",
       "</div>"
      ],
      "text/plain": [
       "     user        isbn  rating\n",
       "0  276725  034545104X       0\n",
       "1  276726  0155061224       5\n",
       "2  276727  0446520802       0\n",
       "3  276729  052165615X       3\n",
       "4  276729  0521795028       6"
      ]
     },
     "execution_count": 2,
     "metadata": {},
     "output_type": "execute_result"
    }
   ],
   "source": [
    "dataFile='data\\BX-Book-Ratings.csv'\n",
    "\n",
    "df = pd.read_csv(dataFile,sep=\";\",\n",
    "                 header=0,\n",
    "                 names=[\"user\",\"isbn\",\"rating\"],\n",
    "                 encoding='iso-8859-1',\n",
    "                 nrows=1000\n",
    "                )\n",
    "df.head()"
   ]
  },
  {
   "cell_type": "code",
   "execution_count": 3,
   "metadata": {},
   "outputs": [],
   "source": [
    "def loadingData(dataFile,nrows=None):\n",
    "    \n",
    "#     if nrows =-1\n",
    "    \n",
    "    \n",
    "    df = pd.read_csv(dataFile,\n",
    "                     sep=\";\",\n",
    "                     header=0,\n",
    "                     names=[\"user\",\"isbn\",\"rating\"],\n",
    "                     encoding='iso-8859-1',\n",
    "                     nrows=nrows\n",
    "                    )\n",
    "    return df"
   ]
  },
  {
   "cell_type": "markdown",
   "metadata": {},
   "source": [
    "# Preprocessing \n",
    "-  select input dataset size\n"
   ]
  },
  {
   "cell_type": "code",
   "execution_count": 4,
   "metadata": {},
   "outputs": [],
   "source": [
    "# does not work on whole data set coz its too large\n",
    "# R = df.pivot(index='user',columns='isbn',values='rating')"
   ]
  },
  {
   "cell_type": "markdown",
   "metadata": {},
   "source": [
    "encountered memory error\n",
    "dropping zeros"
   ]
  },
  {
   "cell_type": "code",
   "execution_count": 5,
   "metadata": {},
   "outputs": [
    {
     "name": "stdout",
     "output_type": "stream",
     "text": [
      "(1000, 3)\n"
     ]
    },
    {
     "data": {
      "text/plain": [
       "(483, 3)"
      ]
     },
     "execution_count": 5,
     "metadata": {},
     "output_type": "execute_result"
    }
   ],
   "source": [
    "print(df.shape)\n",
    "df = df[df.rating!=0]\n",
    "df.shape"
   ]
  },
  {
   "cell_type": "markdown",
   "metadata": {},
   "source": [
    "still memory error\n",
    "filter unpopular books?\n",
    "fileter lazy users?"
   ]
  },
  {
   "cell_type": "code",
   "execution_count": 6,
   "metadata": {},
   "outputs": [
    {
     "data": {
      "text/plain": [
       "(127, 478)"
      ]
     },
     "execution_count": 6,
     "metadata": {},
     "output_type": "execute_result"
    }
   ],
   "source": [
    "# sparse matrix works more efficiently\n",
    "df['rating'] = df['rating'].astype(float)\n",
    "df['user'] = df['user'].astype(\"category\")\n",
    "df['isbn'] = df['isbn'].astype(\"category\")\n",
    "\n",
    "# convert str to catergory codes because spare matrix cannot contain string\n",
    "isbn_code = df['isbn'].cat.codes.copy()\n",
    "user_code = df['user'].cat.codes.copy()\n",
    "\n",
    "R = coo_matrix((df['rating'],(user_code, isbn_code)))\n",
    "R.shape"
   ]
  },
  {
   "cell_type": "code",
   "execution_count": 7,
   "metadata": {},
   "outputs": [],
   "source": [
    "def covertToSparse(df):\n",
    "    # sparse matrix works more efficiently\n",
    "    df['rating'] = df['rating'].astype(float)\n",
    "    df['user'] = df['user'].astype(\"category\")\n",
    "    df['isbn'] = df['isbn'].astype(\"category\")\n",
    "\n",
    "    # convert str to catergory codes because spare matrix cannot contain string\n",
    "    isbn_code = df['isbn'].cat.codes.copy()\n",
    "    user_code = df['user'].cat.codes.copy()\n",
    "\n",
    "    R = coo_matrix((df['rating'],(user_code, isbn_code)))\n",
    "    \n",
    "    return R"
   ]
  },
  {
   "cell_type": "markdown",
   "metadata": {},
   "source": [
    "# SGD to solve for P and Q"
   ]
  },
  {
   "cell_type": "markdown",
   "metadata": {},
   "source": [
    "error = R - R_hat\n",
    "=> R = Q @ P.T\n",
    "\n",
    "qi =  qi + gamma * (error @ pi - lambda @ qi)\n",
    "pi =  pi + gamma * (error @ qi - lambda @ pi)"
   ]
  },
  {
   "cell_type": "code",
   "execution_count": 8,
   "metadata": {},
   "outputs": [],
   "source": [
    "# element by element approach\n",
    "\n",
    "def SGD(R,K=5,lambda_=0.02,steps=10,gamma=0.001,verbose=False,rmse_target=1):\n",
    "\n",
    "    # lambda_: regularization\n",
    "    # gamma :learning rate\n",
    "    \n",
    "    # initialise matrix P and Q\n",
    "    M,N = R.shape\n",
    "    P = np.random.rand(M,K)\n",
    "    Q = np.random.rand(K,N)\n",
    "    \n",
    "    #initial RMSE\n",
    "    rmse = np.sqrt(mean_squared_error(R.toarray(), P@Q))\n",
    "    print(f\"STARTING RMSE: {rmse:.2f}\")\n",
    "\n",
    "    for step in range(steps):\n",
    "        \n",
    "        for ui in range(len(R.data)):\n",
    "            rui = R.data[ui] # serialize matrix\n",
    "            u = R.row[ui] # get user index (row)\n",
    "            i = R.col[ui] # get item index (col)\n",
    "\n",
    "#             # adding bias\n",
    "#             mean = np.mean(R.data) # mean score of all rating\n",
    "#             ui = np.mean(P[u,:]) # mean rating given by that user\n",
    "#             bi = np.mean(Q[:,i]) # mean rating give to that movie\n",
    "\n",
    "#             bui = mean + ui + bi\n",
    "            \n",
    "#             rui_hat = P[u,:] @ Q[:,i] + mean + ui + bi\n",
    "            rui_hat = P[u,:] @ Q[:,i] # sum(row x col)\n",
    "            error = rui - rui_hat\n",
    "\n",
    "            # update P,Q matrix\n",
    "            P[u,:] = P[u,:] + gamma * (error * Q[:,i] - lambda_ * P[u,:])  \n",
    "            Q[:,i] = Q[:,i] + gamma * (error * P[u,:] - lambda_ * Q[:,i])  \n",
    "\n",
    "            \n",
    "        rmse = np.sqrt(mean_squared_error(R.toarray(), P@Q))\n",
    "\n",
    "        if verbose:\n",
    "            print(f\"STEP NO: {step+1} - CURRENT RMSE:{rmse:.2f}\")\n",
    "            \n",
    "        if rmse < rmse_target:\n",
    "            break\n",
    "            \n",
    "    if verbose:\n",
    "        print(f\"STEP NO: {step+1} - CURRENT RMSE:{rmse:.2f}\")\n",
    "\n",
    "    return P,Q,rmse"
   ]
  },
  {
   "cell_type": "code",
   "execution_count": 9,
   "metadata": {},
   "outputs": [],
   "source": [
    "# element by element approach\n",
    "\n",
    "def SGD_bias(R,K=5,lambda_=0.02,steps=10,gamma=0.001,verbose=False,rmse_target=1):\n",
    "\n",
    "    # lambda_: regularization\n",
    "    # gamma :learning rate\n",
    "    \n",
    "    # initialise matrix P and Q\n",
    "    M,N = R.shape\n",
    "    P = np.random.rand(M,K)\n",
    "    Q = np.random.rand(K,N)\n",
    "    \n",
    "    #initial RMSE\n",
    "    rmse = np.sqrt(mean_squared_error(R.toarray(), P@Q))\n",
    "    print(f\"STARTING RMSE: {rmse:.2f}\")\n",
    "\n",
    "    for step in range(steps):\n",
    "        \n",
    "        for ui in range(len(R.data)):\n",
    "            rui = R.data[ui] # serialize matrix\n",
    "            u = R.row[ui] # get user index (row)\n",
    "            i = R.col[ui] # get item index (col)\n",
    "\n",
    "            # adding bias\n",
    "            mean = np.mean(R.data) # mean score of all rating\n",
    "            ui = np.mean(P[u,:]) # mean rating given by that user\n",
    "            bi = np.mean(Q[:,i]) # mean rating give to that movie\n",
    "\n",
    "            bui = mean + ui + bi\n",
    "            \n",
    "            rui_hat = P[u,:] @ Q[:,i] + mean + ui + bi\n",
    "            error = rui - rui_hat\n",
    "\n",
    "            # update P,Q matrix\n",
    "            P[u,:] = P[u,:] + gamma * (error * Q[:,i] - lambda_ * P[u,:])  \n",
    "            Q[:,i] = Q[:,i] + gamma * (error * P[u,:] - lambda_ * Q[:,i])  \n",
    "\n",
    "            \n",
    "        rmse = np.sqrt(mean_squared_error(R.toarray(), P@Q))\n",
    "\n",
    "        if verbose:\n",
    "            print(f\"STEP NO: {step+1} - CURRENT RMSE:{rmse:.2f}\")\n",
    "            \n",
    "        if rmse < rmse_target:\n",
    "            break\n",
    "            \n",
    "    if verbose:\n",
    "        print(f\"STEP NO: {step+1} - CURRENT RMSE:{rmse:.2f}\")\n",
    "\n",
    "    return P,Q,rmse"
   ]
  },
  {
   "cell_type": "code",
   "execution_count": 25,
   "metadata": {},
   "outputs": [],
   "source": [
    "def cal_error(R,P,Q,lambda_=0.02):\n",
    "    # error function to be minimized\n",
    "    ratings = R.data\n",
    "    rows = R.row\n",
    "    cols = R.col\n",
    "    error = 0\n",
    "    \n",
    "    for ui in range(len(ratings)):\n",
    "        rui = ratings[ui]\n",
    "        u= rows[ui]\n",
    "        i= cols[ui]\n",
    "        \n",
    "        # adding bias\n",
    "        mean = np.mean(R.data) # mean score of all rating\n",
    "        ui = np.mean(P[u,:]) # mean rating given by that user\n",
    "        bi = np.mean(Q[:,i]) # mean rating give to that movie\n",
    "        bui = mean + ui + bi\n",
    "        \n",
    "        if rui > 0:\n",
    "            rui_hat = P[u,:]@Q[:,i] + mean + ui + bi\n",
    "#             norm_target = [ui,bi,P[u,:],Q[:,i]]\n",
    "            terms = [ui,bi,norm(P[u,:],2),norm(Q[:,i],2)]\n",
    "            error = error + (rui - rui_hat)**2 + \\\n",
    "                    lambda_ * sum([i**2 for i in terms])\n",
    "\n",
    "    return error\n",
    "\n",
    "def SGD_bias2(R,K=5,lambda_=0.02,steps=10,gamma=0.001,verbose=False,rmse_target=1):\n",
    "\n",
    "    # lambda_: regularization\n",
    "    # gamma :learning rate\n",
    "    \n",
    "    # initialise matrix P and Q\n",
    "    M,N = R.shape\n",
    "    P = np.random.rand(M,K)\n",
    "    Q = np.random.rand(K,N)\n",
    "    \n",
    "    #initial RMSE\n",
    "    rmse = np.sqrt(cal_error(R,P,Q,lambda_)/len(R.data))\n",
    "    print(f\"STARTING RMSE: {rmse:.2f}\")\n",
    "\n",
    "    for step in range(steps):\n",
    "        \n",
    "        for ui in range(len(R.data)):\n",
    "            rui = R.data[ui] # serialize matrix\n",
    "            u = R.row[ui] # get user index (row)\n",
    "            i = R.col[ui] # get item index (col)\n",
    "\n",
    "            # adding bias\n",
    "            mean = np.mean(R.data) # mean score of all rating\n",
    "            ui = np.mean(P[u,:]) # mean rating given by that user\n",
    "            bi = np.mean(Q[:,i]) # mean rating give to that movie\n",
    "            bui = mean + ui + bi\n",
    "    \n",
    "\n",
    "\n",
    "            # update P,Q matrix\n",
    "            rui_hat = P[u,:]@Q[:,i] + mean + ui + bi\n",
    "            eui = rui - rui_hat\n",
    "            P[u,:] = P[u,:] + gamma * (eui * Q[:,i] - lambda_ * P[u,:])  \n",
    "            Q[:,i] = Q[:,i] + gamma * (eui * P[u,:] - lambda_ * Q[:,i])  \n",
    "\n",
    "            \n",
    "        rmse = np.sqrt(cal_error(R,P,Q,lambda_)/len(R.data))\n",
    "\n",
    "        if verbose:\n",
    "            print(f\"STEP NO: {step+1} - CURRENT RMSE:{rmse:.2f}\")\n",
    "            \n",
    "        if rmse < rmse_target:\n",
    "            break\n",
    "            \n",
    "    if verbose:\n",
    "        print(f\"STEP NO: {step+1} - CURRENT RMSE:{rmse:.2f}\")\n",
    "\n",
    "    return P,Q,rmse"
   ]
  },
  {
   "cell_type": "code",
   "execution_count": 19,
   "metadata": {},
   "outputs": [
    {
     "data": {
      "text/plain": [
       "8167.446482021246"
      ]
     },
     "execution_count": 19,
     "metadata": {},
     "output_type": "execute_result"
    }
   ],
   "source": [
    "# R = np.array([[3,0,2],[4,1,9],[9,2,1]])\n",
    "M,N = R.shape\n",
    "K=10\n",
    "P = np.random.rand(M,K)\n",
    "Q = np.random.rand(K,N)\n",
    "cal_error(R,P,Q,0.02)"
   ]
  },
  {
   "cell_type": "markdown",
   "metadata": {},
   "source": [
    "# Production"
   ]
  },
  {
   "cell_type": "code",
   "execution_count": null,
   "metadata": {},
   "outputs": [
    {
     "name": "stdout",
     "output_type": "stream",
     "text": [
      "DF SIZE: (1149780, 3)\n",
      "DF SIZE AFTER DROPPING 0: (433671, 3)\n",
      "Rating Matrix shape: (77805, 185973)\n"
     ]
    }
   ],
   "source": [
    "starttime = time.time()\n",
    "\n",
    "dataFile='data\\BX-Book-Ratings.csv'\n",
    "# nrows = None\n",
    "nrows= 500\n",
    "\n",
    "df = loadingData(dataFile,nrows)\n",
    "\n",
    "print(f\"DF SIZE: {df.shape}\")\n",
    "df = df[df.rating!=0]\n",
    "print(f\"DF SIZE AFTER DROPPING 0: {df.shape}\")\n",
    "\n",
    "R = covertToSparse(df)\n",
    "\n",
    "print(f\"Rating Matrix shape: {R.shape}\")\n",
    "\n",
    "params = {'R':R,\n",
    "          'K':5,\n",
    "          'lambda_':0.02,\n",
    "          'steps':10,\n",
    "          'gamma':0.001,\n",
    "          'verbose':True,\n",
    "          'rmse_target':1\n",
    "         }\n",
    "\n",
    "\n",
    "# P,Q,rmse = SGD(**params)\n",
    "P,Q,rmse = SGD_bias2(**params)\n",
    "\n",
    "duration = time.time() - starttime\n",
    "print(f\"Process time: {duration:.2f}\")"
   ]
  },
  {
   "cell_type": "markdown",
   "metadata": {},
   "source": [
    "\n",
    "# how to input new user?\n",
    "\n",
    "layer 1: user demographic, bio\n",
    "user content based filtering to generate\n",
    "\n",
    "layer 2: punch in social media account, obtain social graph \n",
    "recommend using colaborative filtering\n",
    "\n",
    "layer 3: rate some movies to cold start the LFA process"
   ]
  },
  {
   "cell_type": "markdown",
   "metadata": {},
   "source": [
    "save and load trained weiights, PQ\n",
    "save and display rating matrix\n",
    "load rating matrix to predicut user behaviour"
   ]
  },
  {
   "cell_type": "markdown",
   "metadata": {},
   "source": [
    "# Misc code"
   ]
  },
  {
   "cell_type": "code",
   "execution_count": 118,
   "metadata": {},
   "outputs": [],
   "source": [
    "import os\n",
    "os.startfile(os.getcwd())"
   ]
  },
  {
   "cell_type": "code",
   "execution_count": 64,
   "metadata": {},
   "outputs": [],
   "source": [
    "# element by element approach\n",
    "\n",
    "def SGD_old(R,K=5,lambda_=0.02,steps=10,gamma=0.001,verbose=False,rmse_target=1):\n",
    "# def SGD(R,K,lambda_,steps,gamma,verbose,rmse_target):    \n",
    "    # lambda_: regularization\n",
    "    # gamma :learning rate\n",
    "\n",
    "    # initialise matrix P and Q\n",
    "    M,N = R.shape\n",
    "    P = np.random.rand(M,K)\n",
    "    Q = np.random.rand(K,N)\n",
    "    \n",
    "    #initial RMSE\n",
    "    rmse = np.sqrt(mean_squared_error(R.toarray(), P@Q))\n",
    "    print(f\"STARTING RMSE: {rmse:.2f}\")\n",
    "\n",
    "    for step in range(steps):\n",
    "        for ui in range(len(R.data)):\n",
    "            rui = R.data[ui] # serialize matrix\n",
    "            u = R.row[ui] # get user index (row)\n",
    "            i = R.col[ui] # get item index (col)\n",
    "\n",
    "            rui_hat = P[u,:] @ Q[:,i] # sum(row x col)\n",
    "            error = rui - rui_hat\n",
    "\n",
    "            # update P,Q matrix\n",
    "            P[u,:] = P[u,:] + gamma * (error * Q[:,i] - lambda_ * P[u,:])  \n",
    "            Q[:,i] = Q[:,i] + gamma * (error * P[u,:] - lambda_ * Q[:,i])  \n",
    "\n",
    "            \n",
    "        rmse = np.sqrt(mean_squared_error(R.toarray(), P@Q))\n",
    "        if rmse < rmse_target:\n",
    "            break\n",
    "\n",
    "    if verbose == True:\n",
    "        print(f\"FINAL RMSE: {rmse:.2f}\")\n",
    "\n",
    "    return P,Q,rmse"
   ]
  },
  {
   "cell_type": "markdown",
   "metadata": {},
   "source": [
    "# Inspection , EDA"
   ]
  },
  {
   "cell_type": "code",
   "execution_count": 30,
   "metadata": {},
   "outputs": [
    {
     "data": {
      "text/plain": [
       "<matplotlib.axes._subplots.AxesSubplot at 0x17c00cefd68>"
      ]
     },
     "execution_count": 30,
     "metadata": {},
     "output_type": "execute_result"
    },
    {
     "data": {
      "image/png": "[encoded data removed]",
      "text/plain": [
       "<Figure size 432x288 with 1 Axes>"
      ]
     },
     "metadata": {
      "needs_background": "light"
     },
     "output_type": "display_data"
    }
   ],
   "source": [
    "sns.distplot(df.rating,\n",
    "             bins=range(10),\n",
    "             hist_kws={\"histtype\": \"step\",\n",
    "                       \"linewidth\": 3,\n",
    "                       \"alpha\": 1,\n",
    "                       \"color\": \"r\"},\n",
    "             kde=False,\n",
    "\n",
    "            )\n",
    "            "
   ]
  },
  {
   "cell_type": "code",
   "execution_count": 148,
   "metadata": {},
   "outputs": [
    {
     "data": {
      "text/plain": [
       "<matplotlib.axes._subplots.AxesSubplot at 0x2a5c2c80748>"
      ]
     },
     "execution_count": 148,
     "metadata": {},
     "output_type": "execute_result"
    },
    {
     "data": {
      "image/png": "[encoded data removed]",
      "text/plain": [
       "<Figure size 432x288 with 1 Axes>"
      ]
     },
     "metadata": {
      "needs_background": "light"
     },
     "output_type": "display_data"
    }
   ],
   "source": [
    "sns.distplot(df[df.rating!=0].rating,\n",
    "             bins=range(10),\n",
    "             hist_kws={\"histtype\": \"step\",\n",
    "                       \"linewidth\": 3,\n",
    "                       \"alpha\": 1,\n",
    "                       \"color\": \"r\"},\n",
    "             kde=False,\n",
    "            )"
   ]
  },
  {
   "cell_type": "code",
   "execution_count": 93,
   "metadata": {},
   "outputs": [
    {
     "data": {
      "text/plain": [
       "<matplotlib.axes._subplots.AxesSubplot at 0x262dfa2fe48>"
      ]
     },
     "execution_count": 93,
     "metadata": {},
     "output_type": "execute_result"
    },
    {
     "data": {
      "image/png": "[encoded data removed]",
      "text/plain": [
       "<Figure size 432x288 with 2 Axes>"
      ]
     },
     "metadata": {
      "needs_background": "light"
     },
     "output_type": "display_data"
    }
   ],
   "source": [
    "sns.heatmap(df==0,cmap='plasma_r')"
   ]
  },
  {
   "cell_type": "code",
   "execution_count": null,
   "metadata": {},
   "outputs": [],
   "source": []
  }
 ],
 "metadata": {
  "kernelspec": {
   "display_name": "Python 3",
   "language": "python",
   "name": "python3"
  },
  "language_info": {
   "codemirror_mode": {
    "name": "ipython",
    "version": 3
   },
   "file_extension": ".py",
   "mimetype": "text/x-python",
   "name": "python",
   "nbconvert_exporter": "python",
   "pygments_lexer": "ipython3",
   "version": "3.7.0"
  }
 },
 "nbformat": 4,
 "nbformat_minor": 2
}

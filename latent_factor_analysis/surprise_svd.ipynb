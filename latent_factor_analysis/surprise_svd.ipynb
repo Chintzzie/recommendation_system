{
 "cells": [
  {
   "cell_type": "markdown",
   "metadata": {},
   "source": [
    "# Latent Factor Analysis for Book Recommendation\n",
    "using the Book Crossing Datset\n",
    "\n",
    "## Preliminary"
   ]
  },
  {
   "cell_type": "code",
   "execution_count": 1,
   "metadata": {},
   "outputs": [],
   "source": [
    "import pandas as pd\n",
    "import numpy as np\n",
    "\n",
    "from numpy.linalg import norm"
   ]
  },
  {
   "cell_type": "markdown",
   "metadata": {},
   "source": [
    "## Data Wrangling"
   ]
  },
  {
   "cell_type": "code",
   "execution_count": 2,
   "metadata": {},
   "outputs": [
    {
     "data": {
      "text/plain": [
       "(1149780, 3)"
      ]
     },
     "execution_count": 2,
     "metadata": {},
     "output_type": "execute_result"
    }
   ],
   "source": [
    "raw_path = '../data/BX-Book-Ratings.csv'\n",
    "raw = pd.read_csv(raw_path, \n",
    "                  sep=';',\n",
    "                  header = 0,\n",
    "                  names = ['user', 'isbn', 'rating'],\n",
    "                  encoding = 'ISO-8859-1')\n",
    "raw.shape"
   ]
  },
  {
   "cell_type": "code",
   "execution_count": 3,
   "metadata": {},
   "outputs": [
    {
     "data": {
      "text/html": [
       "<div>\n",
       "<style scoped>\n",
       "    .dataframe tbody tr th:only-of-type {\n",
       "        vertical-align: middle;\n",
       "    }\n",
       "\n",
       "    .dataframe tbody tr th {\n",
       "        vertical-align: top;\n",
       "    }\n",
       "\n",
       "    .dataframe thead th {\n",
       "        text-align: right;\n",
       "    }\n",
       "</style>\n",
       "<table border=\"1\" class=\"dataframe\">\n",
       "  <thead>\n",
       "    <tr style=\"text-align: right;\">\n",
       "      <th></th>\n",
       "      <th>title</th>\n",
       "      <th>author</th>\n",
       "    </tr>\n",
       "    <tr>\n",
       "      <th>isbn</th>\n",
       "      <th></th>\n",
       "      <th></th>\n",
       "    </tr>\n",
       "  </thead>\n",
       "  <tbody>\n",
       "    <tr>\n",
       "      <th>0195153448</th>\n",
       "      <td>Classical Mythology</td>\n",
       "      <td>Mark P. O. Morford</td>\n",
       "    </tr>\n",
       "    <tr>\n",
       "      <th>0002005018</th>\n",
       "      <td>Clara Callan</td>\n",
       "      <td>Richard Bruce Wright</td>\n",
       "    </tr>\n",
       "    <tr>\n",
       "      <th>0060973129</th>\n",
       "      <td>Decision in Normandy</td>\n",
       "      <td>Carlo D'Este</td>\n",
       "    </tr>\n",
       "    <tr>\n",
       "      <th>0374157065</th>\n",
       "      <td>Flu: The Story of the Great Influenza Pandemic...</td>\n",
       "      <td>Gina Bari Kolata</td>\n",
       "    </tr>\n",
       "    <tr>\n",
       "      <th>0393045218</th>\n",
       "      <td>The Mummies of Urumchi</td>\n",
       "      <td>E. J. W. Barber</td>\n",
       "    </tr>\n",
       "  </tbody>\n",
       "</table>\n",
       "</div>"
      ],
      "text/plain": [
       "                                                        title  \\\n",
       "isbn                                                            \n",
       "0195153448                                Classical Mythology   \n",
       "0002005018                                       Clara Callan   \n",
       "0060973129                               Decision in Normandy   \n",
       "0374157065  Flu: The Story of the Great Influenza Pandemic...   \n",
       "0393045218                             The Mummies of Urumchi   \n",
       "\n",
       "                          author  \n",
       "isbn                              \n",
       "0195153448    Mark P. O. Morford  \n",
       "0002005018  Richard Bruce Wright  \n",
       "0060973129          Carlo D'Este  \n",
       "0374157065      Gina Bari Kolata  \n",
       "0393045218       E. J. W. Barber  "
      ]
     },
     "execution_count": 3,
     "metadata": {},
     "output_type": "execute_result"
    }
   ],
   "source": [
    "bookfile_path = '../data/BX-Books.csv'\n",
    "df_book = pd.read_csv( bookfile_path,\n",
    "                      sep = ';',\n",
    "                      header = 0,\n",
    "                      error_bad_lines = False,\n",
    "                      usecols = [0,1,2],\n",
    "                      index_col = 0,\n",
    "                      names = ['isbn', 'title', 'author'],\n",
    "                      encoding = 'iso-8859-1'\n",
    "                     )\n",
    "df_book.head()"
   ]
  },
  {
   "cell_type": "markdown",
   "metadata": {},
   "source": [
    "### Remove books without informations"
   ]
  },
  {
   "cell_type": "code",
   "execution_count": 4,
   "metadata": {},
   "outputs": [
    {
     "name": "stdout",
     "output_type": "stream",
     "text": [
      "Found 118605 missing books: 10.32%\n"
     ]
    }
   ],
   "source": [
    "missing_books = raw[-raw['isbn'].isin(df_book.index)]\n",
    "df_rating = raw[raw['isbn'].isin(df_book.index)]\n",
    "print( f'Found {len(missing_books)} missing books: {\"{:.2%}\".format(len(missing_books)/len(raw))}')"
   ]
  },
  {
   "cell_type": "markdown",
   "metadata": {},
   "source": [
    "### Remove Books and Users with limited ratings\n",
    "we are setting a **threshold** here of minimum 10 ratings  \n",
    "users or books that has fewer than 10 ratings are simply not worth the effort"
   ]
  },
  {
   "cell_type": "code",
   "execution_count": 6,
   "metadata": {},
   "outputs": [],
   "source": [
    "books_ratings_count = df_rating.isbn.value_counts()\n",
    "users_ratings_count = df_rating.user.value_counts()"
   ]
  },
  {
   "cell_type": "code",
   "execution_count": 7,
   "metadata": {
    "scrolled": true
   },
   "outputs": [
    {
     "name": "stdout",
     "output_type": "stream",
     "text": [
      "Only 6.47% books will be kept\n",
      "Only 12.75% users will be kept\n",
      "There are 11,746 users and 17,479 books.\n"
     ]
    }
   ],
   "source": [
    "rating_threshold = 10\n",
    "books_tokeep = books_ratings_count[books_ratings_count>= rating_threshold]\n",
    "users_tokeep = users_ratings_count[users_ratings_count>= rating_threshold]\n",
    "print(f'Only {\"{:.2%}\".format(len(books_tokeep)/ len(books_ratings_count))} books will be kept')\n",
    "print(f'Only {\"{:.2%}\".format(len(users_tokeep)/ len(users_ratings_count))} users will be kept')\n",
    "      \n",
    "print(f'There are {\"{:,}\".format(len(users_tokeep))} users and {\"{:,}\".format(len(books_tokeep))} books.')"
   ]
  },
  {
   "cell_type": "code",
   "execution_count": 8,
   "metadata": {},
   "outputs": [
    {
     "name": "stdout",
     "output_type": "stream",
     "text": [
      "We have 1,031,175 ratings before applying threshold, now we have 428,085\n"
     ]
    }
   ],
   "source": [
    "df_rating_clean = df_rating[ df_rating.isbn.isin(books_tokeep.index)]\n",
    "df_rating_clean = df_rating_clean[ df_rating_clean.user.isin(users_tokeep.index)]\n",
    "print( f'We have {\"{:,}\".format(len(df_rating))} ratings before applying threshold, now we have {\"{:,}\".format(len(df_rating_clean))}')"
   ]
  },
  {
   "cell_type": "markdown",
   "metadata": {},
   "source": [
    "### Remove Zeros"
   ]
  },
  {
   "cell_type": "code",
   "execution_count": 9,
   "metadata": {},
   "outputs": [
    {
     "name": "stdout",
     "output_type": "stream",
     "text": [
      "Found 284422 records that is 0: 66.44%\n"
     ]
    }
   ],
   "source": [
    "zeros = df_rating_clean[df_rating_clean.rating == 0]\n",
    "print( f'Found {len(zeros)} records that is 0: {\"{:.2%}\".format(len(zeros)/len(df_rating_clean))}')"
   ]
  },
  {
   "cell_type": "code",
   "execution_count": 10,
   "metadata": {},
   "outputs": [
    {
     "data": {
      "text/plain": [
       "(143663, 3)"
      ]
     },
     "execution_count": 10,
     "metadata": {},
     "output_type": "execute_result"
    }
   ],
   "source": [
    "df_rating_clean = df_rating_clean[df_rating_clean.rating != 0]\n",
    "df_rating_clean.shape"
   ]
  },
  {
   "cell_type": "markdown",
   "metadata": {},
   "source": [
    "### Sparseness of our rating Matrix"
   ]
  },
  {
   "cell_type": "code",
   "execution_count": 11,
   "metadata": {},
   "outputs": [
    {
     "name": "stdout",
     "output_type": "stream",
     "text": [
      "We have 10807 users X 17091 items and 143663 ratings. Resulting in a rating matrix that has a density of 0.08%\n"
     ]
    }
   ],
   "source": [
    "count_users = len(df_rating_clean.user.unique())\n",
    "count_items = len(df_rating_clean.isbn.unique())\n",
    "count_ratings = len(df_rating_clean)\n",
    "print(f'We have {count_users} users X {count_items} items and {count_ratings} ratings. Resulting in a rating matrix that has a density of {\"{:.2%}\".format(count_ratings/ (count_users * count_items))}')"
   ]
  },
  {
   "cell_type": "markdown",
   "metadata": {},
   "source": [
    "### Create Sparse Matrix\n",
    "Usage \\#3 from [documentation](https://kite.com/python/docs/scipy.sparse.coo_matrix):  \n",
    "`coo_matrix((data, (i, j)), [shape=(M, N)])`"
   ]
  },
  {
   "cell_type": "code",
   "execution_count": 40,
   "metadata": {},
   "outputs": [
    {
     "name": "stdout",
     "output_type": "stream",
     "text": [
      "rating matrix R is of type <class 'scipy.sparse.coo.coo_matrix'> and shape (10807, 17091)\n"
     ]
    }
   ],
   "source": [
    "df_R_org = df_rating_clean.pivot( index = 'user', columns = 'isbn', values = 'rating').fillna(0)\n",
    "\n",
    "from scipy.sparse import coo_matrix\n",
    "# data = df_rating_clean.rating.astype(float)\n",
    "# i = df_rating_clean.user.astype('category').cat.codes.copy()\n",
    "# j = df_rating_clean.isbn.astype('category').cat.codes.copy()\n",
    "\n",
    "# R = coo_matrix(( data, (i,j)))\n",
    "R = coo_matrix( df_R_org.values)\n",
    "print(f'rating matrix R is of type {type(R)} and shape {R.shape}')"
   ]
  },
  {
   "cell_type": "markdown",
   "metadata": {},
   "source": [
    "### Latent Factor Analysis with Biases"
   ]
  },
  {
   "cell_type": "markdown",
   "metadata": {},
   "source": [
    "Much of the observed variation in rating values is due to effects associated with either users or items, known as biases or intercepts, independent of any interactions.\n",
    "\n",
    "$b_{ui}$ = μ + $b_i$ + $b_u$\n",
    "\n",
    "For example, suppose that you want a first-order estimate for user Joe’s rating of the movie Titanic. Now, say that the average rating over all movies, μ, is 3.7 stars. Furthermore, Titanic is better than an average movie, so it tends to be rated 0.5 stars above the average.On the other hand, Joe is a critical user, who tends to rate 0.3 stars lower than the average. Thus, the estimate for Titanic’s rating by Joe would be 3.9 stars (3.7 + 0.5 - 0.3).\n",
    "\n",
    "Biases extend the Equation $r_{ui}$= $q_{i}p_{u}$ as follows:\n",
    "\n",
    "$r_{ui}$= μ+ $b_i$ + $b_u$ + $q_{i}p_{u}$\n",
    "\n",
    "The system learns by minimizing the squared error function: \n",
    "\n",
    "$min_{p,q,b}  \\sum_  rui_{k}- \\mu -b_{u}-b_{i}-p.q+ \\lambda  \\big( \\|p \\|^2+ \\|q \\|^2+\\|b_{u} \\|^2 +\\|b_{i} \\|^2\\big)  \n",
    " $"
   ]
  },
  {
   "cell_type": "code",
   "execution_count": 15,
   "metadata": {},
   "outputs": [],
   "source": [
    "## pow is power function pow(x,n) = x^n\n",
    "## e is error\n",
    "\n",
    "def error(R,P,Q,b,b_u,b_i,lamda=0.02):\n",
    "    ratings = R.data\n",
    "    rows = R.row\n",
    "    cols = R.col\n",
    "    e = 0   \n",
    "    for ui in range(len(ratings)):\n",
    "        rui=ratings[ui]\n",
    "        u = rows[ui]\n",
    "        i = cols[ui]\n",
    "        if rui>0:\n",
    "            e= e + pow(rui-np.dot(P[u,:],Q[:,i])-b-b_u[u]-b_i[i],2)+\\\n",
    "                lamda*(pow(norm(P[u,:]),2)+pow(norm(Q[:,i]),2)+\\\n",
    "                b_u[u]**2+ b_i[i]**2)\n",
    "    return e"
   ]
  },
  {
   "cell_type": "code",
   "execution_count": 16,
   "metadata": {},
   "outputs": [],
   "source": [
    "## R coo-matrix of rating with user-books\n",
    "##  K no. of latent factors\n",
    "## lr is learning rate\n",
    "## lamda is regualarization parameter\n",
    "\n",
    "def SGD(R, K, lamda=0.02,steps=10, lr=0.001):\n",
    "    \n",
    "    M,N = R.shape\n",
    "    P = np.random.normal(scale=1./K,size=(M,K))\n",
    "    Q = np.random.normal(scale=1./K,size=(K,N))\n",
    "    \n",
    "    # Initialize the biases\n",
    "    # b_u the bias of users\n",
    "    # b_i the bias of books\n",
    "    b_u = np.zeros(M)\n",
    "    b_i = np.zeros(N)\n",
    "    b = np.mean(R.data)\n",
    "    \n",
    "    params = [R,P,Q,b,b_u,b_i,lamda]\n",
    "    \n",
    "    rmse = np.sqrt(error(*params)/len(R.data))\n",
    "    print(f\"Initial RMSE {'{:.4f}'.format(rmse)}\")\n",
    "    \n",
    "    for step in range(steps):\n",
    "        for ui in range(len(R.data)):\n",
    "            rui=R.data[ui]\n",
    "            u = R.row[ui]\n",
    "            i = R.col[ui]\n",
    "            if rui>0:\n",
    "                eui=rui-np.dot(P[u,:],Q[:,i])-b-b_i[i]-b_u[u]\n",
    "                # Update biases\n",
    "                b_u[u] += 2*lr * (eui - lamda * b_u[u])\n",
    "                b_i[i] += 2*lr * (eui - lamda * b_i[i])\n",
    "            \n",
    "                P[u,:]=P[u,:]+lr*2*(eui*Q[:,i]-lamda*P[u,:])  \n",
    "                Q[:,i]=Q[:,i]+lr*2*(eui*P[u,:]-lamda*Q[:,i])\n",
    "          \n",
    "        rmse = np.sqrt(error(*params)/len(R.data))\n",
    "          \n",
    "        if step%5==0:\n",
    "            print(f\"RMSE {'{:.4f}'.format(rmse)}\")\n",
    "        elif rmse <0.25:\n",
    "            break\n",
    "    print(f\"Final RMSE {'{:.4f}'.format(rmse)}\")\n",
    "        \n",
    "    return P,Q,b_u,b_i,b"
   ]
  },
  {
   "cell_type": "code",
   "execution_count": 41,
   "metadata": {},
   "outputs": [
    {
     "name": "stdout",
     "output_type": "stream",
     "text": [
      "Initial RMSE 3.1530\n",
      "RMSE 1.9434\n",
      "RMSE 1.4176\n",
      "RMSE 1.1999\n",
      "RMSE 1.0309\n",
      "RMSE 0.9063\n",
      "RMSE 0.8148\n",
      "RMSE 0.7464\n",
      "RMSE 0.6943\n",
      "RMSE 0.6539\n",
      "RMSE 0.6219\n",
      "RMSE 0.5960\n",
      "RMSE 0.5749\n",
      "RMSE 0.5573\n",
      "RMSE 0.5424\n",
      "RMSE 0.5298\n",
      "RMSE 0.5189\n",
      "RMSE 0.5094\n",
      "RMSE 0.5011\n",
      "RMSE 0.4937\n",
      "RMSE 0.4872\n",
      "Final RMSE 0.4824\n"
     ]
    }
   ],
   "source": [
    "(P,Q,b_u,b_i,b)=SGD(R,K=10,lr=0.005,lamda=0.02, steps=100)"
   ]
  },
  {
   "cell_type": "markdown",
   "metadata": {},
   "source": [
    "### Creating the Prediction Matrix"
   ]
  },
  {
   "cell_type": "code",
   "execution_count": 42,
   "metadata": {},
   "outputs": [
    {
     "name": "stdout",
     "output_type": "stream",
     "text": [
      "R_hat is type <class 'numpy.ndarray'> and shape (10807, 17091).\n"
     ]
    }
   ],
   "source": [
    "R_hat = np.dot(P,Q)\n",
    "print(f'R_hat is type {type(R_hat)} and shape {R_hat.shape}.')"
   ]
  },
  {
   "cell_type": "markdown",
   "metadata": {},
   "source": [
    "#### Create a function to look up Predictions of a given user"
   ]
  },
  {
   "cell_type": "code",
   "execution_count": 43,
   "metadata": {},
   "outputs": [],
   "source": [
    "df_R_hat = pd.DataFrame(data = R_hat, index = df_R_org.index, columns= df_R_org.columns)"
   ]
  },
  {
   "cell_type": "markdown",
   "metadata": {},
   "source": [
    "### Util functions"
   ]
  },
  {
   "cell_type": "code",
   "execution_count": 30,
   "metadata": {},
   "outputs": [],
   "source": [
    "def GetUserRatedBooks( user_id, return_rating = False):\n",
    "    udata = df_rating_clean[ df_rating_clean.user == user_id]\n",
    "    if return_rating:\n",
    "        return {udata.iloc[i].isbn : udata.iloc[i].rating for i in range(len(udata))}\n",
    "    else:\n",
    "        return list(udata['isbn'])\n",
    "\n",
    "def GetBookDetails( isbn, field = 'title'):\n",
    "    return str(df_book[df_book.index == isbn][field].values)"
   ]
  },
  {
   "cell_type": "code",
   "execution_count": 19,
   "metadata": {},
   "outputs": [
    {
     "data": {
      "text/plain": [
       "2.30931359963822"
      ]
     },
     "execution_count": 19,
     "metadata": {},
     "output_type": "execute_result"
    }
   ],
   "source": [
    "uid = 276847\n",
    "row_id = \n",
    "R_hat[1,2]"
   ]
  },
  {
   "cell_type": "code",
   "execution_count": 31,
   "metadata": {},
   "outputs": [],
   "source": [
    "def RatingMatrixLookup( user_id , item_id, R_predicted):\n",
    "    return R_predicted[ R_predicted.index == user_id][item_id]"
   ]
  },
  {
   "cell_type": "code",
   "execution_count": 44,
   "metadata": {},
   "outputs": [
    {
     "data": {
      "text/plain": [
       "user\n",
       "276847    0.397714\n",
       "Name: 3404148576, dtype: float64"
      ]
     },
     "execution_count": 44,
     "metadata": {},
     "output_type": "execute_result"
    }
   ],
   "source": [
    "RatingMatrixLookup( uid, '3404148576', df_R_hat)"
   ]
  },
  {
   "cell_type": "code",
   "execution_count": 45,
   "metadata": {},
   "outputs": [
    {
     "data": {
      "text/plain": [
       "user\n",
       "276847    8.0\n",
       "Name: 3404148576, dtype: float64"
      ]
     },
     "execution_count": 45,
     "metadata": {},
     "output_type": "execute_result"
    }
   ],
   "source": [
    "RatingMatrixLookup( uid, '3404148576', df_R_org)"
   ]
  },
  {
   "cell_type": "code",
   "execution_count": 38,
   "metadata": {},
   "outputs": [
    {
     "data": {
      "text/plain": [
       "array([[5., 0., 0., ..., 0., 0., 0.],\n",
       "       [0., 0., 0., ..., 0., 0., 0.],\n",
       "       [0., 0., 0., ..., 0., 0., 0.],\n",
       "       ...,\n",
       "       [0., 0., 0., ..., 0., 0., 0.],\n",
       "       [0., 0., 0., ..., 0., 0., 0.],\n",
       "       [0., 0., 0., ..., 0., 0., 0.]])"
      ]
     },
     "execution_count": 38,
     "metadata": {},
     "output_type": "execute_result"
    }
   ],
   "source": [
    "df_R_org.values"
   ]
  },
  {
   "cell_type": "code",
   "execution_count": 39,
   "metadata": {},
   "outputs": [],
   "source": [
    "R_ttest = coo_matrix( df_R_org.values)"
   ]
  },
  {
   "cell_type": "code",
   "execution_count": null,
   "metadata": {},
   "outputs": [],
   "source": []
  }
 ],
 "metadata": {
  "kernelspec": {
   "display_name": "Python 3",
   "language": "python",
   "name": "python3"
  },
  "language_info": {
   "codemirror_mode": {
    "name": "ipython",
    "version": 3
   },
   "file_extension": ".py",
   "mimetype": "text/x-python",
   "name": "python",
   "nbconvert_exporter": "python",
   "pygments_lexer": "ipython3",
   "version": "3.6.7"
  }
 },
 "nbformat": 4,
 "nbformat_minor": 2
}

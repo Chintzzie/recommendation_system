{
 "cells": [
  {
   "cell_type": "markdown",
   "metadata": {},
   "source": [
    "# Latent Factor Analysis for Book Recommendation\n",
    "using the [Book Crossing Datset](http://www2.informatik.uni-freiburg.de/~cziegler/BX/) and [**surprise**](http://surpriselib.com/)\n",
    "\n",
    "## Preliminary"
   ]
  },
  {
   "cell_type": "code",
   "execution_count": 35,
   "metadata": {},
   "outputs": [],
   "source": [
    "import pandas as pd\n",
    "import numpy as np\n",
    "import time\n",
    "\n",
    "from surprise import SVDpp\n",
    "from surprise import Dataset, Reader, SVD, evaluate\n",
    "from surprise import accuracy\n",
    "from surprise.model_selection import train_test_split\n",
    "from surprise.model_selection import GridSearchCV\n",
    "from surprise.model_selection import cross_validate"
   ]
  },
  {
   "cell_type": "markdown",
   "metadata": {},
   "source": [
    "## Data Wrangling"
   ]
  },
  {
   "cell_type": "code",
   "execution_count": 43,
   "metadata": {},
   "outputs": [
    {
     "data": {
      "text/html": [
       "<div>\n",
       "<style scoped>\n",
       "    .dataframe tbody tr th:only-of-type {\n",
       "        vertical-align: middle;\n",
       "    }\n",
       "\n",
       "    .dataframe tbody tr th {\n",
       "        vertical-align: top;\n",
       "    }\n",
       "\n",
       "    .dataframe thead th {\n",
       "        text-align: right;\n",
       "    }\n",
       "</style>\n",
       "<table border=\"1\" class=\"dataframe\">\n",
       "  <thead>\n",
       "    <tr style=\"text-align: right;\">\n",
       "      <th></th>\n",
       "      <th>user</th>\n",
       "      <th>isbn</th>\n",
       "      <th>rating</th>\n",
       "    </tr>\n",
       "  </thead>\n",
       "  <tbody>\n",
       "    <tr>\n",
       "      <th>0</th>\n",
       "      <td>276725</td>\n",
       "      <td>034545104X</td>\n",
       "      <td>0</td>\n",
       "    </tr>\n",
       "    <tr>\n",
       "      <th>1</th>\n",
       "      <td>276726</td>\n",
       "      <td>0155061224</td>\n",
       "      <td>5</td>\n",
       "    </tr>\n",
       "    <tr>\n",
       "      <th>2</th>\n",
       "      <td>276727</td>\n",
       "      <td>0446520802</td>\n",
       "      <td>0</td>\n",
       "    </tr>\n",
       "    <tr>\n",
       "      <th>3</th>\n",
       "      <td>276729</td>\n",
       "      <td>052165615X</td>\n",
       "      <td>3</td>\n",
       "    </tr>\n",
       "    <tr>\n",
       "      <th>4</th>\n",
       "      <td>276729</td>\n",
       "      <td>0521795028</td>\n",
       "      <td>6</td>\n",
       "    </tr>\n",
       "  </tbody>\n",
       "</table>\n",
       "</div>"
      ],
      "text/plain": [
       "     user        isbn  rating\n",
       "0  276725  034545104X       0\n",
       "1  276726  0155061224       5\n",
       "2  276727  0446520802       0\n",
       "3  276729  052165615X       3\n",
       "4  276729  0521795028       6"
      ]
     },
     "execution_count": 43,
     "metadata": {},
     "output_type": "execute_result"
    }
   ],
   "source": [
    "raw_path = '../data/BX-Book-Ratings.csv'\n",
    "raw = pd.read_csv(raw_path, \n",
    "                  sep=';',\n",
    "                  header = 0,\n",
    "                  names = ['user', 'isbn', 'rating'],\n",
    "                  encoding = 'ISO-8859-1')\n",
    "raw.head()"
   ]
  },
  {
   "cell_type": "code",
   "execution_count": 3,
   "metadata": {},
   "outputs": [
    {
     "data": {
      "text/html": [
       "<div>\n",
       "<style scoped>\n",
       "    .dataframe tbody tr th:only-of-type {\n",
       "        vertical-align: middle;\n",
       "    }\n",
       "\n",
       "    .dataframe tbody tr th {\n",
       "        vertical-align: top;\n",
       "    }\n",
       "\n",
       "    .dataframe thead th {\n",
       "        text-align: right;\n",
       "    }\n",
       "</style>\n",
       "<table border=\"1\" class=\"dataframe\">\n",
       "  <thead>\n",
       "    <tr style=\"text-align: right;\">\n",
       "      <th></th>\n",
       "      <th>title</th>\n",
       "      <th>author</th>\n",
       "    </tr>\n",
       "    <tr>\n",
       "      <th>isbn</th>\n",
       "      <th></th>\n",
       "      <th></th>\n",
       "    </tr>\n",
       "  </thead>\n",
       "  <tbody>\n",
       "    <tr>\n",
       "      <th>0195153448</th>\n",
       "      <td>Classical Mythology</td>\n",
       "      <td>Mark P. O. Morford</td>\n",
       "    </tr>\n",
       "    <tr>\n",
       "      <th>0002005018</th>\n",
       "      <td>Clara Callan</td>\n",
       "      <td>Richard Bruce Wright</td>\n",
       "    </tr>\n",
       "    <tr>\n",
       "      <th>0060973129</th>\n",
       "      <td>Decision in Normandy</td>\n",
       "      <td>Carlo D'Este</td>\n",
       "    </tr>\n",
       "    <tr>\n",
       "      <th>0374157065</th>\n",
       "      <td>Flu: The Story of the Great Influenza Pandemic...</td>\n",
       "      <td>Gina Bari Kolata</td>\n",
       "    </tr>\n",
       "    <tr>\n",
       "      <th>0393045218</th>\n",
       "      <td>The Mummies of Urumchi</td>\n",
       "      <td>E. J. W. Barber</td>\n",
       "    </tr>\n",
       "  </tbody>\n",
       "</table>\n",
       "</div>"
      ],
      "text/plain": [
       "                                                        title  \\\n",
       "isbn                                                            \n",
       "0195153448                                Classical Mythology   \n",
       "0002005018                                       Clara Callan   \n",
       "0060973129                               Decision in Normandy   \n",
       "0374157065  Flu: The Story of the Great Influenza Pandemic...   \n",
       "0393045218                             The Mummies of Urumchi   \n",
       "\n",
       "                          author  \n",
       "isbn                              \n",
       "0195153448    Mark P. O. Morford  \n",
       "0002005018  Richard Bruce Wright  \n",
       "0060973129          Carlo D'Este  \n",
       "0374157065      Gina Bari Kolata  \n",
       "0393045218       E. J. W. Barber  "
      ]
     },
     "execution_count": 3,
     "metadata": {},
     "output_type": "execute_result"
    }
   ],
   "source": [
    "bookfile_path = '../data/BX-Books.csv'\n",
    "df_book = pd.read_csv( bookfile_path,\n",
    "                      sep = ';',\n",
    "                      header = 0,\n",
    "                      error_bad_lines = False,\n",
    "                      usecols = [0,1,2],\n",
    "                      index_col = 0,\n",
    "                      names = ['isbn', 'title', 'author'],\n",
    "                      encoding = 'iso-8859-1'\n",
    "                     )\n",
    "df_book.head()"
   ]
  },
  {
   "cell_type": "markdown",
   "metadata": {},
   "source": [
    "#### Build util function GetUserRatedBooks() and GetBookDetails()"
   ]
  },
  {
   "cell_type": "code",
   "execution_count": 152,
   "metadata": {},
   "outputs": [],
   "source": [
    "def GetUserRatedBooks( user_id, return_rating = False):\n",
    "    udata = df_rating_clean[ df_rating_clean.user == user_id]\n",
    "    if return_rating:\n",
    "        return {udata.iloc[i].isbn : udata.iloc[i].rating for i in range(len(udata))}\n",
    "    else:\n",
    "        return list(udata['isbn'])\n",
    "\n",
    "def GetBookDetails( isbn, field = 'title'):\n",
    "    return str(df_book[df_book.index == isbn][field].values)"
   ]
  },
  {
   "cell_type": "code",
   "execution_count": 155,
   "metadata": {},
   "outputs": [
    {
     "data": {
      "text/plain": [
       "{'3404148576': 8,\n",
       " '3423071516': 10,\n",
       " '3442413508': 10,\n",
       " '3442437717': 7,\n",
       " '3442444020': 8,\n",
       " '3442446414': 10,\n",
       " '3442448530': 7,\n",
       " '3551551677': 10,\n",
       " '3551551685': 10,\n",
       " '3551551693': 10,\n",
       " '3551551936': 10}"
      ]
     },
     "execution_count": 155,
     "metadata": {},
     "output_type": "execute_result"
    }
   ],
   "source": [
    "GetUserRatedBooks(276847, True)"
   ]
  },
  {
   "cell_type": "code",
   "execution_count": 154,
   "metadata": {},
   "outputs": [
    {
     "data": {
      "text/plain": [
       "\"['Classical Mythology']\""
      ]
     },
     "execution_count": 154,
     "metadata": {},
     "output_type": "execute_result"
    }
   ],
   "source": [
    "GetBookDetails('0195153448')"
   ]
  },
  {
   "cell_type": "markdown",
   "metadata": {},
   "source": [
    "### Remove books without informations"
   ]
  },
  {
   "cell_type": "code",
   "execution_count": 60,
   "metadata": {},
   "outputs": [
    {
     "name": "stdout",
     "output_type": "stream",
     "text": [
      "Found 118605 missing books: 10.32%\n"
     ]
    }
   ],
   "source": [
    "missing_books = raw[-raw['isbn'].isin(df_book.index)]\n",
    "df_rating = raw[raw['isbn'].isin(df_book.index)]\n",
    "print( f'Found {len(missing_books)} missing books: {\"{:.2%}\".format(len(missing_books)/len(raw))}')"
   ]
  },
  {
   "cell_type": "markdown",
   "metadata": {},
   "source": [
    "### Remove Books and Users with limited ratings\n",
    "we are setting a **threshold** here of minimum 10 ratings  \n",
    "users or books that has fewer than 10 ratings are simply not worth the effort"
   ]
  },
  {
   "cell_type": "code",
   "execution_count": 61,
   "metadata": {},
   "outputs": [],
   "source": [
    "books_ratings_count = df_rating.isbn.value_counts()\n",
    "users_ratings_count = df_rating.user.value_counts()"
   ]
  },
  {
   "cell_type": "code",
   "execution_count": 62,
   "metadata": {
    "scrolled": true
   },
   "outputs": [
    {
     "name": "stdout",
     "output_type": "stream",
     "text": [
      "Only 6.47% books will be kept\n",
      "Only 12.75% users will be kept\n",
      "There are 11,746 users and 17,479 books.\n"
     ]
    }
   ],
   "source": [
    "rating_threshold = 10\n",
    "books_tokeep = books_ratings_count[books_ratings_count>= rating_threshold]\n",
    "users_tokeep = users_ratings_count[users_ratings_count>= rating_threshold]\n",
    "print(f'Only {\"{:.2%}\".format(len(books_tokeep)/ len(books_ratings_count))} books will be kept')\n",
    "print(f'Only {\"{:.2%}\".format(len(users_tokeep)/ len(users_ratings_count))} users will be kept')\n",
    "      \n",
    "print(f'There are {\"{:,}\".format(len(users_tokeep))} users and {\"{:,}\".format(len(books_tokeep))} books.')"
   ]
  },
  {
   "cell_type": "code",
   "execution_count": 63,
   "metadata": {},
   "outputs": [
    {
     "name": "stdout",
     "output_type": "stream",
     "text": [
      "We have 1,031,175 ratings before applying threshold, now we have 428,085\n"
     ]
    }
   ],
   "source": [
    "df_rating_clean = df_rating[ df_rating.isbn.isin(books_tokeep.index)]\n",
    "df_rating_clean = df_rating_clean[ df_rating_clean.user.isin(users_tokeep.index)]\n",
    "print( f'We have {\"{:,}\".format(len(df_rating))} ratings before applying threshold, now we have {\"{:,}\".format(len(df_rating_clean))}')"
   ]
  },
  {
   "cell_type": "markdown",
   "metadata": {},
   "source": [
    "### Remove Zeros"
   ]
  },
  {
   "cell_type": "code",
   "execution_count": 65,
   "metadata": {},
   "outputs": [
    {
     "name": "stdout",
     "output_type": "stream",
     "text": [
      "Found 284422 records that is 0: 66.44%\n"
     ]
    }
   ],
   "source": [
    "zeros = df_rating_clean[df_rating_clean.rating == 0]\n",
    "print( f'Found {len(zeros)} records that is 0: {\"{:.2%}\".format(len(zeros)/len(df_rating_clean))}')"
   ]
  },
  {
   "cell_type": "code",
   "execution_count": 66,
   "metadata": {},
   "outputs": [
    {
     "data": {
      "text/plain": [
       "(143663, 3)"
      ]
     },
     "execution_count": 66,
     "metadata": {},
     "output_type": "execute_result"
    }
   ],
   "source": [
    "df_rating_clean = df_rating_clean[df_rating_clean.rating != 0]\n",
    "df_rating_clean.shape"
   ]
  },
  {
   "cell_type": "markdown",
   "metadata": {},
   "source": [
    "### Sparseness of our Rating Matrix"
   ]
  },
  {
   "cell_type": "code",
   "execution_count": 71,
   "metadata": {},
   "outputs": [
    {
     "name": "stdout",
     "output_type": "stream",
     "text": [
      "We have 10807 users X 17091 items and 143663 ratings. Resulting in a rating matrix that has a density of 0.08%\n"
     ]
    }
   ],
   "source": [
    "count_users = len(df_rating_clean.user.unique())\n",
    "count_items = len(df_rating_clean.isbn.unique())\n",
    "count_ratings = len(df_rating_clean)\n",
    "print(f'We have {count_users} users X {count_items} items and {count_ratings} ratings. Resulting in a rating matrix that has a density of {\"{:.2%}\".format(count_ratings/ (count_users * count_items))}')"
   ]
  },
  {
   "cell_type": "markdown",
   "metadata": {},
   "source": [
    "## Models"
   ]
  },
  {
   "cell_type": "markdown",
   "metadata": {},
   "source": [
    "#### Model Parameters"
   ]
  },
  {
   "cell_type": "code",
   "execution_count": 166,
   "metadata": {},
   "outputs": [],
   "source": [
    "n_factors = 10\n",
    "n_epochs = 30\n",
    "lr = 0.002\n",
    "random_state = 420\n",
    "verbose = False\n",
    "\n",
    "test_userid = 276847"
   ]
  },
  {
   "cell_type": "markdown",
   "metadata": {},
   "source": [
    "#### Loading the dataset"
   ]
  },
  {
   "cell_type": "code",
   "execution_count": 69,
   "metadata": {},
   "outputs": [],
   "source": [
    "s_reader = Reader( rating_scale= (1,10))\n",
    "# data have to follow this structure:\n",
    "#   user: item: rating\n",
    "s_data = Dataset.load_from_df(df_rating_clean[['user', 'isbn', 'rating']], s_reader)"
   ]
  },
  {
   "cell_type": "markdown",
   "metadata": {},
   "source": [
    "### Using Surprise's SVD"
   ]
  },
  {
   "cell_type": "code",
   "execution_count": 165,
   "metadata": {},
   "outputs": [
    {
     "name": "stdout",
     "output_type": "stream",
     "text": [
      "Model building took 0.09 minutes\n",
      "Model accuracy using SVD : Test Set\n",
      "RMSE: 1.6423\n"
     ]
    },
    {
     "data": {
      "text/plain": [
       "1.6422678447254193"
      ]
     },
     "execution_count": 165,
     "metadata": {},
     "output_type": "execute_result"
    }
   ],
   "source": [
    "# Train-Test Split\n",
    "trainset, testset = train_test_split(s_data, test_size=0.1)\n",
    "\n",
    "# define the model\n",
    "svd = SVD(n_factors, n_epochs, lr_all = lr, random_state= random_state, verbose= verbose)\n",
    "\n",
    "# Fit + Test-Predict\n",
    "s_time = time.time()\n",
    "svd.fit(trainset)\n",
    "e_time = time.time()\n",
    "print(f'Model building took {\"{:.2f}\".format((e_time - s_time)/60)} minutes')\n",
    "\n",
    "test_predict = svd.test(testset)\n",
    "print(\"Model accuracy using SVD : Test Set\")\n",
    "accuracy.rmse(test_predict, verbose=True)"
   ]
  },
  {
   "cell_type": "code",
   "execution_count": 143,
   "metadata": {},
   "outputs": [],
   "source": [
    "def GetPredictions( trained_model, user_id, item_ids, org_df, verbose = False, top_n = None):\n",
    "    if not org_df.user.isin([user_id]).any():\n",
    "        print(f'{user_id} not in trained dataset. Cannot be predicted.')\n",
    "        return None\n",
    "    \n",
    "    pred_df = org_df[ org_df.user == user_id]\n",
    "    if verbose:\n",
    "        s_time = time.time()\n",
    "        print(f'user {user_id} had {len(pred_df)} ratings')\n",
    "\n",
    "    compute_count = 1\n",
    "    for item in item_ids:\n",
    "        if not pred_df.isbn.isin( [item] ).any():\n",
    "            ipred = trained_model.predict( uid= user_id, iid = item)\n",
    "            ipred_data = {'user': user_id, 'isbn': item, 'rating': ipred.est}\n",
    "            pred_df = pred_df.append( ipred_data, ignore_index = True)\n",
    "            compute_count +=1\n",
    "    \n",
    "    if verbose:\n",
    "        e_time = time.time()\n",
    "        print(f'computed prediction for {compute_count} items.\\n Took {e_time - s_time} seconds.')\n",
    "        \n",
    "    pred_df = pred_df.sort_values( by = ['rating'], ascending = False)\n",
    "    \n",
    "    if top_n:\n",
    "        old_books = GetUserRatedBooks(user_id, return_rating= False)\n",
    "        return pred_df[-pred_df.isbn.isin(old_books)][:top_n]\n",
    "    else:\n",
    "        return pred_df"
   ]
  },
  {
   "cell_type": "markdown",
   "metadata": {},
   "source": [
    "#### Let's Make a Prediction"
   ]
  },
  {
   "cell_type": "code",
   "execution_count": 145,
   "metadata": {},
   "outputs": [
    {
     "name": "stdout",
     "output_type": "stream",
     "text": [
      "user 276847 had 11 ratings\n",
      "computed prediction for 17081 items.\n",
      " Took 47.158957958221436 seconds.\n"
     ]
    }
   ],
   "source": [
    "user_pred = GetPredictions( svd , test_userid, df_rating_clean.isbn.unique(), df_rating_clean, \n",
    "                          top_n = 10, verbose = True)"
   ]
  },
  {
   "cell_type": "code",
   "execution_count": 161,
   "metadata": {},
   "outputs": [
    {
     "name": "stdout",
     "output_type": "stream",
     "text": [
      "User 276847 already read:\n",
      "---------------------\n",
      "['Nordermoor']: 8\n",
      "['Der Kleine Hobbit']: 10\n",
      "['Auf Ehre und Gewissen. Roman.']: 10\n",
      "['Asche zu Asche.']: 7\n",
      "['Denn sie betrÃ?Â¼gt man nicht.']: 8\n",
      "['Mit dem KÃ?Â¼hlschrank durch Irland.']: 10\n",
      "['Die HirnkÃ?Â¶nigin.']: 7\n",
      "['Harry Potter und der Stein der Weisen']: 10\n",
      "['Harry Potter und die Kammer des Schreckens']: 10\n",
      "['Harry Potter und der Gefangene von Azkaban']: 10\n",
      "['Harry Potter Und Der Feuerkelch']: 10\n",
      "\n",
      "We recommend:\n",
      "---------------------\n",
      "['The Return of the King (The Lord of the Rings, Part 3)']\n",
      "['To Kill a Mockingbird']\n",
      "['Harry Potter and the Order of the Phoenix (Book 5)']\n",
      "['Harry Potter and the Goblet of Fire (Book 4)']\n",
      "[\"Harry Potter and the Sorcerer's Stone (Harry Potter (Paperback))\"]\n",
      "['Harry Potter and the Prisoner of Azkaban (Book 3)']\n",
      "['The Fellowship of the Ring (The Lord of the Rings, Part 1)']\n",
      "[\"Harry Potter and the Sorcerer's Stone (Book 1)\"]\n",
      "['Harry Potter and the Chamber of Secrets (Book 2)']\n",
      "['Harry Potter and the Prisoner of Azkaban (Book 3)']\n"
     ]
    }
   ],
   "source": [
    "old_books = GetUserRatedBooks(test_userid, return_rating= True)\n",
    "print(f'User {test_userid} already read:\\n---------------------')\n",
    "for ibook in old_books:\n",
    "    bname = GetBookDetails(ibook)\n",
    "    print(f'{str(bname)}: {old_books[ibook]}')\n",
    "\n",
    "print(f'\\nWe recommend:\\n---------------------')\n",
    "for ibook in user_pred.isbn:\n",
    "    bname = GetBookDetails(ibook)\n",
    "    print(f'{str(bname)}')"
   ]
  },
  {
   "cell_type": "markdown",
   "metadata": {},
   "source": [
    "### Using Surprise SVD++"
   ]
  },
  {
   "cell_type": "code",
   "execution_count": 167,
   "metadata": {
    "scrolled": true
   },
   "outputs": [
    {
     "name": "stdout",
     "output_type": "stream",
     "text": [
      "Model building took 5.25 minutes\n",
      "Model accuracy using SVD : Test Set\n",
      "RMSE: 1.5683\n"
     ]
    },
    {
     "data": {
      "text/plain": [
       "1.5682822819369824"
      ]
     },
     "execution_count": 167,
     "metadata": {},
     "output_type": "execute_result"
    }
   ],
   "source": [
    "# define the model\n",
    "svd_pp = SVDpp(n_factors, n_epochs, lr_all = lr, random_state= random_state, verbose= verbose)\n",
    "\n",
    "# Fit + Test-Predict\n",
    "s_time = time.time()\n",
    "svd_pp.fit(trainset)\n",
    "e_time = time.time()\n",
    "print(f'Model building took {\"{:.2f}\".format((e_time - s_time)/60)} minutes')\n",
    "\n",
    "test_predict_pp = svd_pp.test(testset)\n",
    "print(\"Model accuracy using SVD : Test Set\")\n",
    "accuracy.rmse(test_predict_pp, verbose=True)"
   ]
  },
  {
   "cell_type": "markdown",
   "metadata": {},
   "source": [
    "### Make Prediction Again"
   ]
  },
  {
   "cell_type": "code",
   "execution_count": 170,
   "metadata": {},
   "outputs": [
    {
     "name": "stdout",
     "output_type": "stream",
     "text": [
      "user 276847 had 11 ratings\n",
      "computed prediction for 17081 items.\n",
      " Took 48.51417803764343 seconds.\n"
     ]
    }
   ],
   "source": [
    "user_pred_pp = GetPredictions( svd_pp , test_userid, df_rating_clean.isbn.unique(), df_rating_clean, \n",
    "                          top_n = 10, verbose = True)"
   ]
  },
  {
   "cell_type": "code",
   "execution_count": 171,
   "metadata": {},
   "outputs": [
    {
     "name": "stdout",
     "output_type": "stream",
     "text": [
      "User 276847 already read:\n",
      "---------------------\n",
      "['Nordermoor']: 8\n",
      "['Der Kleine Hobbit']: 10\n",
      "['Auf Ehre und Gewissen. Roman.']: 10\n",
      "['Asche zu Asche.']: 7\n",
      "['Denn sie betrÃ?Â¼gt man nicht.']: 8\n",
      "['Mit dem KÃ?Â¼hlschrank durch Irland.']: 10\n",
      "['Die HirnkÃ?Â¶nigin.']: 7\n",
      "['Harry Potter und der Stein der Weisen']: 10\n",
      "['Harry Potter und die Kammer des Schreckens']: 10\n",
      "['Harry Potter und der Gefangene von Azkaban']: 10\n",
      "['Harry Potter Und Der Feuerkelch']: 10\n",
      "\n",
      "We recommend:\n",
      "---------------------\n",
      "['Harry Potter and the Goblet of Fire (Book 4)']\n",
      "['Weirdos From Another Planet!']\n",
      "['The Return of the King (The Lord of the Rings, Part 3)']\n",
      "['Dune (Remembering Tomorrow)']\n",
      "[\"The Time Traveler's Wife\"]\n",
      "['Harry Potter and the Chamber of Secrets Postcard Book']\n",
      "['To Kill a Mockingbird']\n",
      "[\"My Sister's Keeper : A Novel (Picoult, Jodi)\"]\n",
      "['The Little Prince']\n",
      "[\"Charlotte's Web (Trophy Newbery)\"]\n"
     ]
    }
   ],
   "source": [
    "old_books = GetUserRatedBooks(test_userid, return_rating= True)\n",
    "print(f'User {test_userid} already read:\\n---------------------')\n",
    "for ibook in old_books:\n",
    "    bname = GetBookDetails(ibook)\n",
    "    print(f'{str(bname)}: {old_books[ibook]}')\n",
    "\n",
    "print(f'\\nWe recommend:\\n---------------------')\n",
    "for ibook in user_pred_pp.isbn:\n",
    "    bname = GetBookDetails(ibook)\n",
    "    print(f'{str(bname)}')"
   ]
  },
  {
   "cell_type": "code",
   "execution_count": null,
   "metadata": {},
   "outputs": [],
   "source": []
  },
  {
   "cell_type": "code",
   "execution_count": null,
   "metadata": {},
   "outputs": [],
   "source": []
  }
 ],
 "metadata": {
  "kernelspec": {
   "display_name": "Python 3",
   "language": "python",
   "name": "python3"
  },
  "language_info": {
   "codemirror_mode": {
    "name": "ipython",
    "version": 3
   },
   "file_extension": ".py",
   "mimetype": "text/x-python",
   "name": "python",
   "nbconvert_exporter": "python",
   "pygments_lexer": "ipython3",
   "version": "3.6.3"
  }
 },
 "nbformat": 4,
 "nbformat_minor": 2
}
